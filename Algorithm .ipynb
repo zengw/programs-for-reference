{
 "cells": [
  {
   "cell_type": "markdown",
   "metadata": {},
   "source": [
    "# Recursion "
   ]
  },
  {
   "cell_type": "code",
   "execution_count": null,
   "metadata": {
    "collapsed": true
   },
   "outputs": [],
   "source": [
    "\n",
    "#A recursive function is a function that calls itself.\n",
    "\n",
    "#A recursive algorithm must have a base case. - 结束条件\n",
    "#A recursive algorithm must change its state and move toward the base case.\n",
    "#A recursive algorithm must call itself, recursively. \n",
    "\n",
    "#the logic of recursion is an elegant expression of solving a problem by breaking it down into a\n",
    "#smaller and easier problems.\n",
    "\n",
    "#1) 写出公式  比如 fib： fib(n)= fib(n-1) +fib(n-2) ; sum: sum(n) = sum(n-1) + n 记得用return\n",
    "#2） 写出结束条件-记得用return ：\n",
    "#比如， fib, if n == 1, return 1， if n ==0 return 0.  sum : if len(numlist) == 1 return numlist[1]\n",
    "\n",
    "\n",
    "#use recursion to get the sum \n",
    "def listsum(numlist):\n",
    "    n = len(numlist)-1\n",
    "    if len(numlist)==1:  # this is the base case - a problem small enough that can be solved directly \n",
    "        return numlist[0]\n",
    "    else:\n",
    "        return listsum(numlist[:n]) + numlist[n]  #recursion function \n",
    "listsum([1,4,9,10])"
   ]
  },
  {
   "cell_type": "code",
   "execution_count": 4,
   "metadata": {
    "collapsed": false
   },
   "outputs": [
    {
     "data": {
      "text/plain": [
       "24"
      ]
     },
     "execution_count": 4,
     "metadata": {},
     "output_type": "execute_result"
    }
   ],
   "source": [
    "def factorial(n):\n",
    "    if n <= 1: return 1\n",
    "    else: return factorial(n-1) * n \n",
    "factorial(4)"
   ]
  },
  {
   "cell_type": "code",
   "execution_count": 5,
   "metadata": {
    "collapsed": false
   },
   "outputs": [
    {
     "name": "stdout",
     "output_type": "stream",
     "text": [
      "5AD\n"
     ]
    }
   ],
   "source": [
    "def toStr(n,base):\n",
    "   convertString = \"0123456789ABCDEF\"\n",
    "   if n < base:\n",
    "      return convertString[n]\n",
    "   else:\n",
    "      return toStr(n//base,base) + convertString[n%base]\n",
    "\n",
    "print(toStr(1453,16))"
   ]
  },
  {
   "cell_type": "code",
   "execution_count": 7,
   "metadata": {
    "collapsed": false
   },
   "outputs": [
    {
     "data": {
      "text/plain": [
       "'ecba'"
      ]
     },
     "execution_count": 7,
     "metadata": {},
     "output_type": "execute_result"
    }
   ],
   "source": [
    "def reverse(string):\n",
    "    if len(s)==0: return \"\"\n",
    "    n = len(string)-1\n",
    "    if len(string) ==1:\n",
    "        return string[0]\n",
    "    else:\n",
    "        return string[-1] + reverse(string[:n])\n",
    "reverse('abce')"
   ]
  },
  {
   "cell_type": "code",
   "execution_count": 20,
   "metadata": {
    "collapsed": false
   },
   "outputs": [
    {
     "data": {
      "text/plain": [
       "True"
      ]
     },
     "execution_count": 20,
     "metadata": {},
     "output_type": "execute_result"
    }
   ],
   "source": [
    "def check(string):\n",
    "    import re\n",
    "    \n",
    "    string = re.sub('[^A-Za-z0-9]+',\"\",string)  #remove all special non letter and numbers \n",
    "    \n",
    "    def reverse(string):\n",
    "        if len(string)==0: return \"\"\n",
    "        n = len(string)-1\n",
    "        if len(string) ==1:\n",
    "            return string[0]\n",
    "        else:\n",
    "            return string[-1] + reverse(string[:n])\n",
    "        \n",
    "    return string == reverse(string)\n",
    "check(\" \")"
   ]
  },
  {
   "cell_type": "markdown",
   "metadata": {},
   "source": [
    "# Searching"
   ]
  },
  {
   "cell_type": "code",
   "execution_count": 28,
   "metadata": {
    "collapsed": false
   },
   "outputs": [
    {
     "data": {
      "text/plain": [
       "False"
      ]
     },
     "execution_count": 28,
     "metadata": {},
     "output_type": "execute_result"
    }
   ],
   "source": [
    "15 in [1,2,16]\n",
    "\n",
    "# Search 1 \n",
    "# the sequential search : go one by one until you find the item or run out of items  O(n)\n",
    "def sequential(alist, num):\n",
    "    pos = 0\n",
    "    found = False\n",
    "    while pos < len(alist) and found == False:\n",
    "        if alist[pos] == num:\n",
    "            found = True\n",
    "        pos += 1 \n",
    "    return found \n",
    "sequential([1,2,3],5)\n"
   ]
  },
  {
   "cell_type": "code",
   "execution_count": 36,
   "metadata": {
    "collapsed": false
   },
   "outputs": [
    {
     "name": "stdout",
     "output_type": "stream",
     "text": [
      "3 3 5 4\n"
     ]
    },
    {
     "data": {
      "text/plain": [
       "True"
      ]
     },
     "execution_count": 36,
     "metadata": {},
     "output_type": "execute_result"
    }
   ],
   "source": [
    "# Search 2  Binary Search \n",
    "#Divide and conquer means that we divide the problem into smaller pieces, \n",
    "#solve the smaller pieces in some way, and then reassemble the whole problem to get the result. \n",
    "\n",
    "def binarysearch (alist, anum):\n",
    "    start = 0\n",
    "    end = len(alist) -1\n",
    "    n = 0\n",
    "    while start <= end:\n",
    "        mid = int((start + end)/2)\n",
    "        if alist[mid] == anum:\n",
    "                 print n, start, end, mid\n",
    "                 return True\n",
    "        elif anum > alist[mid]:\n",
    "                 start += 1\n",
    "        else:\n",
    "                 end -= 1\n",
    "        n +=1\n",
    "    print n\n",
    "    return False\n",
    "binarysearch([1,2,4,5,7,8],7)"
   ]
  },
  {
   "cell_type": "markdown",
   "metadata": {},
   "source": [
    "# Bubble Sort "
   ]
  },
  {
   "cell_type": "code",
   "execution_count": 46,
   "metadata": {
    "collapsed": false
   },
   "outputs": [
    {
     "name": "stdout",
     "output_type": "stream",
     "text": [
      "[1, 1, 2, 3, 5, 8, 4, 10]\n",
      "3\n",
      "[1, 1, 2, 3, 5, 4, 8, 10]\n",
      "5\n",
      "[1, 1, 2, 3, 4, 5, 8, 10]\n",
      "4\n"
     ]
    },
    {
     "data": {
      "text/plain": [
       "[1, 1, 2, 3, 4, 5, 8, 10]"
      ]
     },
     "execution_count": 46,
     "metadata": {},
     "output_type": "execute_result"
    }
   ],
   "source": [
    "#improved version- stop when the remining list is sorted \n",
    "ls = [1,1,2,5,3,8,4,10]\n",
    "def bubblesort (alist):\n",
    "    sorted = False \n",
    "    while sorted == False:  #judge whether the list is sorted or not\n",
    "        sorted = True  # in order to make the loop ends, set sorted as TRue at the beginning \n",
    "        for i in range(len(alist)-1):\n",
    "            if alist[i] > alist[i+1]:\n",
    "                \n",
    "                alist[i], alist[i+1] = alist[i+1], alist[i]\n",
    "                sorted= False  #只要for 循环还有false， sorted 就会remain false， 然后while循环继续\n",
    "                print alist\n",
    "                print i\n",
    "    return ls\n",
    "bubblesort(ls)\n",
    "\n",
    "                \n",
    "                "
   ]
  },
  {
   "cell_type": "code",
   "execution_count": 54,
   "metadata": {
    "collapsed": false
   },
   "outputs": [
    {
     "name": "stdout",
     "output_type": "stream",
     "text": [
      "7\n",
      "[1, 1, 2, 5, 3, 8, 4, 10]\n",
      "[1, 1, 2, 5, 3, 8, 4, 10]\n",
      "[1, 1, 2, 5, 3, 8, 4, 10]\n",
      "[1, 1, 2, 3, 5, 8, 4, 10]\n",
      "[1, 1, 2, 3, 5, 8, 4, 10]\n",
      "[1, 1, 2, 3, 5, 4, 8, 10]\n",
      "[1, 1, 2, 3, 5, 4, 8, 10]\n",
      "6\n",
      "[1, 1, 2, 3, 5, 4, 8, 10]\n",
      "[1, 1, 2, 3, 5, 4, 8, 10]\n",
      "[1, 1, 2, 3, 5, 4, 8, 10]\n",
      "[1, 1, 2, 3, 5, 4, 8, 10]\n",
      "[1, 1, 2, 3, 4, 5, 8, 10]\n",
      "[1, 1, 2, 3, 4, 5, 8, 10]\n",
      "5\n",
      "[1, 1, 2, 3, 4, 5, 8, 10]\n",
      "[1, 1, 2, 3, 4, 5, 8, 10]\n",
      "[1, 1, 2, 3, 4, 5, 8, 10]\n",
      "[1, 1, 2, 3, 4, 5, 8, 10]\n",
      "[1, 1, 2, 3, 4, 5, 8, 10]\n",
      "4\n",
      "[1, 1, 2, 3, 4, 5, 8, 10]\n",
      "[1, 1, 2, 3, 4, 5, 8, 10]\n",
      "[1, 1, 2, 3, 4, 5, 8, 10]\n",
      "[1, 1, 2, 3, 4, 5, 8, 10]\n",
      "3\n",
      "[1, 1, 2, 3, 4, 5, 8, 10]\n",
      "[1, 1, 2, 3, 4, 5, 8, 10]\n",
      "[1, 1, 2, 3, 4, 5, 8, 10]\n",
      "2\n",
      "[1, 1, 2, 3, 4, 5, 8, 10]\n",
      "[1, 1, 2, 3, 4, 5, 8, 10]\n",
      "1\n",
      "[1, 1, 2, 3, 4, 5, 8, 10]\n"
     ]
    },
    {
     "data": {
      "text/plain": [
       "[1, 1, 2, 3, 4, 5, 8, 10]"
      ]
     },
     "execution_count": 54,
     "metadata": {},
     "output_type": "execute_result"
    }
   ],
   "source": [
    "#original version \n",
    "ls = [1,1,2,5,3,8,4,10]\n",
    "def bubble_sort(l):\n",
    "    for passes_left in range(len(l)-1, 0, -1):  # this is to get a list for compasion shorter one by one \n",
    "        print passes_left\n",
    "        for index in range(passes_left):  #first time, it will loop through 0 to the len-1 of l; then it will reduce to len-2\n",
    "            if l[index] > l[index + 1]:\n",
    "               l[index], l[index + 1] = l[index + 1], l[index]\n",
    "            print l\n",
    "    return l\n",
    "bubble_sort(ls)"
   ]
  },
  {
   "cell_type": "code",
   "execution_count": 59,
   "metadata": {
    "collapsed": false
   },
   "outputs": [
    {
     "data": {
      "text/plain": [
       "[1, 1, 2, 3, 4, 5, 8, 10]"
      ]
     },
     "execution_count": 59,
     "metadata": {},
     "output_type": "execute_result"
    }
   ],
   "source": [
    "#Selection Sort  O(n2) but it's faster because of less exchanges you only move the maxium to the end of the list \n",
    "# first find the maxium of a case \n",
    "ls = [1,1,2,5,3,8,4,10]\n",
    "\n",
    "def selsort(alist):\n",
    "    loops= len(alist)-1\n",
    "    for i in range(loops, 0, -1):  # i is 7, 6,5,4,3,2,1,0 \n",
    "        maxn = alist[0]\n",
    "        maxloc = 0 \n",
    "        for j in range(0, i+1):\n",
    "            if alist[j]> maxn:\n",
    "                maxn = alist[j]\n",
    "                maxloc = j \n",
    "        alist[maxloc],  alist[i] =  alist[i], alist[maxloc]\n",
    "    return alist \n",
    "selsort(ls)\n",
    "            \n"
   ]
  },
  {
   "cell_type": "code",
   "execution_count": 37,
   "metadata": {
    "collapsed": false
   },
   "outputs": [
    {
     "data": {
      "text/plain": [
       "2"
      ]
     },
     "execution_count": 37,
     "metadata": {},
     "output_type": "execute_result"
    }
   ],
   "source": [
    "#merge sort (dividing and concqure) O (n * log(n))  # n comparison each loop and log2(n) loops\n",
    "# space efficicy : space O(n)\n",
    " ls = [1,1,2,5,3,8,4,10]\n",
    "\n",
    "def mergesort(alist):\n",
    "    \n",
    "    \n"
   ]
  },
  {
   "cell_type": "code",
   "execution_count": null,
   "metadata": {
    "collapsed": true
   },
   "outputs": [],
   "source": [
    "The mapping between an item and the slot where that item belongs in the hash table is called the hash function. \n",
    "The hash function will take any item in the collection\n",
    "and return an integer in the range of slot names, between 0 and m-1. "
   ]
  },
  {
   "cell_type": "markdown",
   "metadata": {},
   "source": [
    "# Anagram  such as 'earth' and 'heart'\n"
   ]
  },
  {
   "cell_type": "code",
   "execution_count": 66,
   "metadata": {
    "collapsed": false
   },
   "outputs": [
    {
     "data": {
      "text/plain": [
       "False"
      ]
     },
     "execution_count": 66,
     "metadata": {},
     "output_type": "execute_result"
    }
   ],
   "source": [
    "#we shouldn't just check whether letters in w1 in w2;\n",
    "#because there might be multiple same letters in w1 but only i in w2\n",
    "def anagram(w1, w2):\n",
    "    if len(w1) != len(w2):\n",
    "        return False\n",
    "    l1 = list(w1)\n",
    "    l2 = list(w2)\n",
    "    for i in l1:\n",
    "        if i in l2:\n",
    "            l2.remove(i)\n",
    "        else:\n",
    "            return False\n",
    "    if len(l2) ==0: \n",
    "        return True\n",
    "    \n",
    "anagram('earthe','heartt')\n",
    "#it may exceed time limit , too many remove .. not a good idea "
   ]
  },
  {
   "cell_type": "code",
   "execution_count": 68,
   "metadata": {
    "collapsed": false
   },
   "outputs": [
    {
     "data": {
      "text/plain": [
       "False"
      ]
     },
     "execution_count": 68,
     "metadata": {},
     "output_type": "execute_result"
    }
   ],
   "source": [
    "#put s and t in the forms of dictionary and check whether two dict equivalent \n",
    "\n",
    "def anagram(s,t):\n",
    "    dic1 = dict()\n",
    "    dic2 = dict()\n",
    "    if len(s) != len(t):\n",
    "        return False\n",
    "    else:\n",
    "        for i in range(0, len(s)):\n",
    "            letter = s[i]\n",
    "            if letter in dic1:\n",
    "                dic1[letter] += 1\n",
    "            else:\n",
    "                dic1[letter] = 1\n",
    "        for i in range(0, len(t)):\n",
    "            letter = t[i]\n",
    "            if letter in dic2:\n",
    "                dic2[letter] += 1\n",
    "            else:\n",
    "                dic2[letter] = 1\n",
    "        if dic1 == dic2:\n",
    "            return True\n",
    "        return False\n",
    "anagram('earthe','heartt')     "
   ]
  },
  {
   "cell_type": "code",
   "execution_count": 74,
   "metadata": {
    "collapsed": false
   },
   "outputs": [
    {
     "data": {
      "text/plain": [
       "False"
      ]
     },
     "execution_count": 74,
     "metadata": {},
     "output_type": "execute_result"
    }
   ],
   "source": [
    "def anagram(s,t):\n",
    "    l2 = list(s)\n",
    "    status = True\n",
    "    i = 0 \n",
    "    while i < len(s):\n",
    "        pos2 = 0\n",
    "        found = False\n",
    "        while pos2 <len(l2) and found == True:\n",
    "            if s[i] == l2[pos2]:\n",
    "                found == True\n",
    "            else:\n",
    "                pos2+=1\n",
    "        if found == True:\n",
    "            l2.remove(ls2[pos2])\n",
    "        else:\n",
    "            return False\n",
    "        i += 1\n",
    "    return status \n",
    "anagram('earthe','heartt')  "
   ]
  },
  {
   "cell_type": "code",
   "execution_count": 1,
   "metadata": {
    "collapsed": false
   },
   "outputs": [
    {
     "name": "stdout",
     "output_type": "stream",
     "text": [
      "True\n"
     ]
    }
   ],
   "source": [
    "#first sort two lists and compare each position O(nlog(n))\n",
    "def anagramSolution2(s1,s2):\n",
    "    alist1 = list(s1)\n",
    "    alist2 = list(s2)\n",
    "\n",
    "    alist1.sort()\n",
    "    alist2.sort()\n",
    "    \n",
    "    \n",
    "    return alist1 == alist2\n",
    "\n",
    "    '''\n",
    "    pos = 0\n",
    "    matches = True\n",
    "\n",
    "    while pos < len(s1) and matches:\n",
    "        if alist1[pos] == alist2[pos]:\n",
    "            pos = pos + 1\n",
    "        else:\n",
    "            matches = False\n",
    "\n",
    "    return matches\n",
    "    '''\n",
    "    \n",
    "\n",
    "print(anagramSolution2('abcde','edcba'))\n",
    "\n"
   ]
  },
  {
   "cell_type": "code",
   "execution_count": 77,
   "metadata": {
    "collapsed": false
   },
   "outputs": [
    {
     "data": {
      "text/plain": [
       "50"
      ]
     },
     "execution_count": 77,
     "metadata": {},
     "output_type": "execute_result"
    }
   ],
   "source": [
    "ord(\"2\")"
   ]
  },
  {
   "cell_type": "code",
   "execution_count": 34,
   "metadata": {
    "collapsed": false
   },
   "outputs": [
    {
     "name": "stdout",
     "output_type": "stream",
     "text": [
      "0 1 ['', '', '', '', '']\n",
      "1 1 ['a', '', '', '', '']\n",
      "2 1 ['a', 'b', '', '', '']\n",
      "3 1 ['a', 'b', 'c', '', '']\n",
      "4 0 ['a', 'b', 'c', 'd', '']\n",
      "3 0 ['a', 'b', 'c', 'd', 'e']\n"
     ]
    },
    {
     "data": {
      "text/plain": [
       "'abcdfe'"
      ]
     },
     "execution_count": 34,
     "metadata": {},
     "output_type": "execute_result"
    }
   ],
   "source": [
    "def zigzag(s, nr):\n",
    "    result = [''] * nr  #先建立个list 存 nrow 个element［‘’，‘’，‘’］\n",
    "    down = 1 #起始化 down， 先往下走\n",
    "    row = 0  # 第0row开始\n",
    "    for i in s:\n",
    "        print row, down, result\n",
    "        result[row] += i \n",
    "        if down == 1 :  #如果往下走， row ＋ 1\n",
    "            row += 1\n",
    "        else:\n",
    "            row -= 1    ＃否则row －1\n",
    "        if row == nr -1 :  ＃如果row 到了 zigzag 底部， set down ＝ 0， 开始往上走\n",
    "            down = 0\n",
    "        if row == 0:  ＃如果到第一行， 往下走\n",
    "            down = 1\n",
    "    \n",
    "    return \"\".join(result)\n",
    "zigzag(\"abcdef\",5)"
   ]
  },
  {
   "cell_type": "code",
   "execution_count": null,
   "metadata": {
    "collapsed": true
   },
   "outputs": [],
   "source": [
    "#The count-and-say sequence is the sequence of integers beginning as follows:\n",
    "#1, 11, 21, 1211, 111221, ...\n",
    "\n",
    "def countAndSay(n):\n",
    "    \n",
    "        \"\"\"\n",
    "        :type n: int\n",
    "        :rtype: str\n",
    "        \"\"\"\n",
    "        ls = [\"1\",\"11\"]\n",
    "        for i in range(1, n):\n",
    "            nstr = ls[i]\n",
    "            #print nstr\n",
    "            newnum = \"\" \n",
    "            #print ls, nstr\n",
    "            counter = 1\n",
    "            for m in range(1, len(nstr)):\n",
    "                \n",
    "                #print m\n",
    "                if nstr[m-1] == nstr[m]:\n",
    "                    counter += 1\n",
    "                else :\n",
    "                    out = str(counter) + nstr[m-1]\n",
    "                    print out\n",
    "                    newnum += out\n",
    "                    counter = 1\n",
    "            out = str(counter) + nstr[m]\n",
    "            newnum += out\n",
    "            ls.append(newnum)\n",
    "            print ls\n",
    "        return ls[n-1]"
   ]
  },
  {
   "cell_type": "code",
   "execution_count": 84,
   "metadata": {
    "collapsed": false
   },
   "outputs": [
    {
     "name": "stdout",
     "output_type": "stream",
     "text": [
      "step1: [['a', 'b'], ['a', 'c'], ['b', 'a']] [['a', 'b'], ['a', 'c'], ['b', 'a']]\n",
      "step3: [['b', 'a'], ['c', 'a'], ['a', 'b']] [['a', 'b'], ['a', 'c'], ['b', 'a']]\n"
     ]
    },
    {
     "data": {
      "text/plain": [
       "[['a', 'b'], ['b', 'a']]"
      ]
     },
     "execution_count": 84,
     "metadata": {},
     "output_type": "execute_result"
    }
   ],
   "source": [
    "\n",
    "ls1 = [['a','b'],['a','c'],['b','a']]\n",
    "ls1copy = list(ls1)  #or ls1copy = list(ls1copy) \n",
    "import copy\n",
    "ls1copy = copy.deepcopy(ls1)\n",
    "\n",
    "print \"step1:\" , ls1, ls1copy\n",
    "\n",
    "\n",
    "# this will make a copy of the ls1 and not get updated when ls1 is updated\n",
    "#very important!!!!\n",
    "ls2 = []\n",
    "result = []\n",
    "for i in ls1:\n",
    "    i[0], i[1] = i[1], i[0]\n",
    "    ls2.append(i)\n",
    "print \"step3:\", ls1, ls1copy\n",
    "\n",
    "for i in ls1copy:\n",
    "    a = [''.join(i) for i in ls1copy]\n",
    "    b = [''.join(i) for i in ls2]\n",
    "\n",
    "for i in ls1copy:\n",
    "    if i in ls2 and i not in result:\n",
    "        \n",
    "        result.append(i)\n",
    "result"
   ]
  },
  {
   "cell_type": "code",
   "execution_count": 95,
   "metadata": {
    "collapsed": false
   },
   "outputs": [
    {
     "name": "stdout",
     "output_type": "stream",
     "text": [
      "set(['ac'])\n",
      "set(['ca'])\n",
      "set(['ab', 'ba'])\n"
     ]
    }
   ],
   "source": [
    "inanotb = set(a).difference(set(b))\n",
    "inbnota = set(b).difference(set(a))\n",
    "print inanotb\n",
    "print inbnota\n",
    "print set(a).difference(inanotb)"
   ]
  },
  {
   "cell_type": "code",
   "execution_count": 120,
   "metadata": {
    "collapsed": false
   },
   "outputs": [
    {
     "data": {
      "text/plain": [
       "'3a1c3d'"
      ]
     },
     "execution_count": 120,
     "metadata": {},
     "output_type": "execute_result"
    }
   ],
   "source": [
    "def counter(s):\n",
    "    result = []\n",
    "    counter = 1\n",
    "    '''\n",
    "    for i in range(len(s)-1):\n",
    "        if s[i] == s[i+1] :\n",
    "            counter += 1\n",
    "        elif s[i] != s[i+1] or i == len(s)-1:\n",
    "            m =  str(counter) + s[i] \n",
    "            counter = 1\n",
    "            result.append(m)\n",
    "            \n",
    "    '''\n",
    "    if len(s) == 1:\n",
    "        m =  str(counter) + s\n",
    "        return m\n",
    "        \n",
    "    i = 0\n",
    "    while True:\n",
    "        i += 1\n",
    "        if s[i-1] == s[i] :\n",
    "            counter += 1\n",
    "        elif s[i-1] != s[i]:\n",
    "            m =  str(counter) + s[i-1] \n",
    "            counter = 1\n",
    "            result.append(m)\n",
    "        if i == len(s) - 1:\n",
    "            break\n",
    "       \n",
    "        \n",
    "    m =  str(counter) + s[i]\n",
    "    result.append(m)\n",
    "    \n",
    "    return \"\".join(result)\n",
    "counter('aaacddd')"
   ]
  },
  {
   "cell_type": "code",
   "execution_count": 121,
   "metadata": {
    "collapsed": false
   },
   "outputs": [
    {
     "data": {
      "text/plain": [
       "'11'"
      ]
     },
     "execution_count": 121,
     "metadata": {},
     "output_type": "execute_result"
    }
   ],
   "source": [
    "counter('1')"
   ]
  },
  {
   "cell_type": "code",
   "execution_count": 122,
   "metadata": {
    "collapsed": false
   },
   "outputs": [
    {
     "data": {
      "text/plain": [
       "'111221'"
      ]
     },
     "execution_count": 122,
     "metadata": {},
     "output_type": "execute_result"
    }
   ],
   "source": [
    "def saynum(n):\n",
    "    result = []\n",
    "    inp = '1'\n",
    "    for i in range(n):\n",
    "        inp = counter(inp)\n",
    "        result.append(inp)\n",
    "    return result[n-1]\n",
    "saynum(4)"
   ]
  },
  {
   "cell_type": "code",
   "execution_count": 125,
   "metadata": {
    "collapsed": false
   },
   "outputs": [
    {
     "data": {
      "text/plain": [
       "True"
      ]
     },
     "execution_count": 125,
     "metadata": {},
     "output_type": "execute_result"
    }
   ],
   "source": [
    "'aa'.endswith('a')"
   ]
  },
  {
   "cell_type": "code",
   "execution_count": null,
   "metadata": {
    "collapsed": true
   },
   "outputs": [],
   "source": []
  }
 ],
 "metadata": {
  "kernelspec": {
   "display_name": "Python 2",
   "language": "python",
   "name": "python2"
  },
  "language_info": {
   "codemirror_mode": {
    "name": "ipython",
    "version": 2
   },
   "file_extension": ".py",
   "mimetype": "text/x-python",
   "name": "python",
   "nbconvert_exporter": "python",
   "pygments_lexer": "ipython2",
   "version": "2.7.11"
  }
 },
 "nbformat": 4,
 "nbformat_minor": 0
}
