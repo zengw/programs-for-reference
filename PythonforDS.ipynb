{
 "cells": [
  {
   "cell_type": "code",
   "execution_count": 1,
   "metadata": {
    "collapsed": false
   },
   "outputs": [
    {
     "data": {
      "text/html": [
       "<div>\n",
       "<table border=\"1\" class=\"dataframe\">\n",
       "  <thead>\n",
       "    <tr style=\"text-align: right;\">\n",
       "      <th></th>\n",
       "      <th>A</th>\n",
       "      <th>B</th>\n",
       "      <th>C</th>\n",
       "      <th>cat</th>\n",
       "    </tr>\n",
       "  </thead>\n",
       "  <tbody>\n",
       "    <tr>\n",
       "      <th>2016-04-29</th>\n",
       "      <td>0.432229</td>\n",
       "      <td>0.432229</td>\n",
       "      <td>0.432229</td>\n",
       "      <td>0</td>\n",
       "    </tr>\n",
       "    <tr>\n",
       "      <th>2016-04-30</th>\n",
       "      <td>0.576571</td>\n",
       "      <td>0.576571</td>\n",
       "      <td>0.576571</td>\n",
       "      <td>1</td>\n",
       "    </tr>\n",
       "    <tr>\n",
       "      <th>2016-05-01</th>\n",
       "      <td>0.034772</td>\n",
       "      <td>0.034772</td>\n",
       "      <td>0.034772</td>\n",
       "      <td>2</td>\n",
       "    </tr>\n",
       "    <tr>\n",
       "      <th>2016-05-02</th>\n",
       "      <td>0.228378</td>\n",
       "      <td>0.228378</td>\n",
       "      <td>0.228378</td>\n",
       "      <td>0</td>\n",
       "    </tr>\n",
       "    <tr>\n",
       "      <th>2016-05-03</th>\n",
       "      <td>0.772353</td>\n",
       "      <td>0.772353</td>\n",
       "      <td>0.772353</td>\n",
       "      <td>1</td>\n",
       "    </tr>\n",
       "    <tr>\n",
       "      <th>2016-05-04</th>\n",
       "      <td>0.103001</td>\n",
       "      <td>0.103001</td>\n",
       "      <td>0.103001</td>\n",
       "      <td>2</td>\n",
       "    </tr>\n",
       "    <tr>\n",
       "      <th>2016-05-05</th>\n",
       "      <td>0.356310</td>\n",
       "      <td>0.356310</td>\n",
       "      <td>0.356310</td>\n",
       "      <td>0</td>\n",
       "    </tr>\n",
       "    <tr>\n",
       "      <th>2016-05-06</th>\n",
       "      <td>0.123971</td>\n",
       "      <td>0.123971</td>\n",
       "      <td>0.123971</td>\n",
       "      <td>1</td>\n",
       "    </tr>\n",
       "    <tr>\n",
       "      <th>2016-05-07</th>\n",
       "      <td>0.149154</td>\n",
       "      <td>0.149154</td>\n",
       "      <td>0.149154</td>\n",
       "      <td>2</td>\n",
       "    </tr>\n",
       "    <tr>\n",
       "      <th>2016-05-08</th>\n",
       "      <td>0.936727</td>\n",
       "      <td>0.936727</td>\n",
       "      <td>0.936727</td>\n",
       "      <td>0</td>\n",
       "    </tr>\n",
       "  </tbody>\n",
       "</table>\n",
       "</div>"
      ],
      "text/plain": [
       "                   A         B         C  cat\n",
       "2016-04-29  0.432229  0.432229  0.432229    0\n",
       "2016-04-30  0.576571  0.576571  0.576571    1\n",
       "2016-05-01  0.034772  0.034772  0.034772    2\n",
       "2016-05-02  0.228378  0.228378  0.228378    0\n",
       "2016-05-03  0.772353  0.772353  0.772353    1\n",
       "2016-05-04  0.103001  0.103001  0.103001    2\n",
       "2016-05-05  0.356310  0.356310  0.356310    0\n",
       "2016-05-06  0.123971  0.123971  0.123971    1\n",
       "2016-05-07  0.149154  0.149154  0.149154    2\n",
       "2016-05-08  0.936727  0.936727  0.936727    0"
      ]
     },
     "execution_count": 1,
     "metadata": {},
     "output_type": "execute_result"
    }
   ],
   "source": [
    "import numpy as np\n",
    "import pandas as pd\n",
    "import datetime\n",
    "import matplotlib.pyplot as plt\n",
    "\n",
    "%matplotlib inline\n",
    "\n",
    "todays_date = datetime.datetime.now().date()\n",
    "index = pd.date_range(todays_date-datetime.timedelta(200), periods=10, freq='D')\n",
    "columns = ['A','B', 'C']\n",
    "\n",
    "data = np.array([np.random.rand(10)]*3).T\n",
    "df = pd.DataFrame(data, index=index, columns=columns)\n",
    "\n",
    "df['cat'] = [i%3 for i in range(10)]\n",
    "df"
   ]
  },
  {
   "cell_type": "code",
   "execution_count": null,
   "metadata": {
    "collapsed": true
   },
   "outputs": [],
   "source": [
    "import pandasql\n",
    "import pandas as pd\n",
    "import os\n",
    "from pandasql import sqldf\n",
    "pysqldf = lambda q: sqldf(q, globals())\n",
    "m1=pysqldf(\"\"\"\n",
    "   \n",
    "    SELECT users.user_id, users.sign_up_date, trans.transaction_date, trans.transaction_amount\n",
    "    FROM q5_trans as trans inner join q5_users as users\n",
    "    ON trans.user_id = users.user_id\n",
    "    WHERE users.sign_up_date= DATE(trans.transaction_date)\n",
    "    order by trans.transaction_amount\n",
    "    \n",
    "\"\"\")\n",
    "m1"
   ]
  },
  {
   "cell_type": "code",
   "execution_count": 154,
   "metadata": {
    "collapsed": false
   },
   "outputs": [
    {
     "data": {
      "text/plain": [
       "[<matplotlib.lines.Line2D at 0x11eebd210>]"
      ]
     },
     "execution_count": 154,
     "metadata": {},
     "output_type": "execute_result"
    },
    {
     "data": {
      "image/png": "[encoded data removed]",
      "text/plain": [
       "<matplotlib.figure.Figure at 0x11de42990>"
      ]
     },
     "metadata": {},
     "output_type": "display_data"
    }
   ],
   "source": [
    "\n",
    "# plotting a line\n",
    "x = np.linspace(0, 10, 100)\n",
    "plt.plot(x, np.sin(x))"
   ]
  },
  {
   "cell_type": "code",
   "execution_count": 17,
   "metadata": {
    "collapsed": false
   },
   "outputs": [
    {
     "data": {
      "image/png": "[encoded data removed]",
      "text/plain": [
       "<matplotlib.figure.Figure at 0x11a17a0d0>"
      ]
     },
     "metadata": {},
     "output_type": "display_data"
    },
    {
     "data": {
      "image/png": "[encoded data removed]",
      "text/plain": [
       "<matplotlib.figure.Figure at 0x119f49890>"
      ]
     },
     "metadata": {},
     "output_type": "display_data"
    },
    {
     "name": "stdout",
     "output_type": "stream",
     "text": [
      "          A         B\n",
      "A  0.069435  0.040977\n",
      "B  0.040977  0.091076\n",
      "          A         B\n",
      "A  1.000000  0.515285\n",
      "B  0.515285  1.000000\n"
     ]
    },
    {
     "data": {
      "text/plain": [
       "0.5152847774581103"
      ]
     },
     "execution_count": 17,
     "metadata": {},
     "output_type": "execute_result"
    }
   ],
   "source": [
    "#box-plt\n",
    "\n",
    "df = pd.DataFrame ( np.random.rand(10,3), columns = ['A','B','C'])\n",
    "df.plot(kind='box')\n",
    "plt.show()\n",
    "\n",
    "x = df.iloc[:,1]\n",
    "y = df.iloc[:,2]\n",
    "plt.scatter(x, y)\n",
    "plt.show()\n",
    "\n",
    "\n",
    "print df[['A','B']].cov()\n",
    "print df[['A','B']].corr()\n",
    "\n",
    "df[['A','B']].cov().iloc[1,0]/ np.sqrt(df[['A','B']].cov().iloc[1,1] * df[['A','B']].cov().iloc[0,0] )\n"
   ]
  },
  {
   "cell_type": "code",
   "execution_count": null,
   "metadata": {
    "collapsed": true
   },
   "outputs": [],
   "source": [
    "#a little bit numpy "
   ]
  },
  {
   "cell_type": "code",
   "execution_count": 5,
   "metadata": {
    "collapsed": false
   },
   "outputs": [
    {
     "name": "stdout",
     "output_type": "stream",
     "text": [
      "0.662589281482\n",
      "[1 0 3 1 2 1 4 1 3 1]\n",
      "('five normal distributed numbers with mean as 0 , std as 1', array([-0.93607426,  0.06455434,  0.80627555,  0.92472021, -0.44110689]))\n"
     ]
    }
   ],
   "source": [
    "\n",
    "%matplotlib inline  \n",
    "bin_value = np.arange(start = -50, stop = 50, step =10)  #it is like seq in R or xrange\n",
    "q = np.random.rand()\n",
    "print q\n",
    "#generate 1000 individual numbers with uniform distrition from -50 to 50 \n",
    "np.random.uniform(-50,50, size=1000)\n",
    "print (np.random.randint(0,5,10)) #generate 10 numbers from 0 to 5, including 0 but not 5\n",
    "print ('five normal distributed numbers with mean as 0 , std as 1',np.random.normal(size=5))\n",
    "\n",
    "X = np.random.random((3, 5))  # a 3 x 5 array \n",
    "X.T\n",
    "\n",
    "y = np.linspace(0, 12, 5)  #generate 5 numbers from 0 to 12 with equal distance - one way for binning \n",
    "y\n",
    "\n",
    "#create a sparse matrix\n",
    "#Note that using many of these categorical features may result in data which is better represented as a sparse matrix, \n",
    "#as we'll see with the text classification example below.\n",
    "from scipy import sparse\n",
    "X_lil = sparse.lil_matrix((5, 5))\n",
    "for i, j in np.random.randint(0, 5, (15, 2)):\n",
    "    X_lil[i, j] = i + j\n",
    "print X_lil\n",
    "print X_lil.tocsr()\n"
   ]
  },
  {
   "cell_type": "markdown",
   "metadata": {},
   "source": [
    "# Some basics"
   ]
  },
  {
   "cell_type": "code",
   "execution_count": 19,
   "metadata": {
    "collapsed": false
   },
   "outputs": [
    {
     "name": "stdout",
     "output_type": "stream",
     "text": [
      "[0, 1, 2, 0, 1, 2, 0, 1, 2, 0]\n",
      "0    4\n",
      "2    3\n",
      "1    3\n",
      "Name: cat, dtype: int64\n",
      "                   A         B         C  cat cat_cat  test\n",
      "2016-04-23  0.635687  0.635687  0.635687    0   hello     0\n",
      "2016-04-24  0.008352  0.008352  0.008352    1     yes     1\n",
      "2016-04-25  0.485114  0.485114  0.485114    2      no     0\n",
      "2016-04-26  0.607709  0.607709  0.607709    0   hello     1\n",
      "2016-04-27  0.554753  0.554753  0.554753    1     yes     0\n",
      "2016-04-28  0.904214  0.904214  0.904214    2      no     1\n",
      "2016-04-29  0.831663  0.831663  0.831663    0   hello     0\n",
      "2016-04-30  0.065390  0.065390  0.065390    1     yes     1\n",
      "2016-05-01  0.927551  0.927551  0.927551    2      no     0\n",
      "2016-05-02  0.964815  0.964815  0.964815    0   hello     1\n",
      "test  0  1\n",
      "cat       \n",
      "0     2  2\n",
      "1     1  2\n",
      "2     2  1\n",
      "test    0    1\n",
      "0     0.4  0.4\n",
      "1     0.2  0.4\n",
      "2     NaN  NaN\n",
      "test         0         1\n",
      "cat                     \n",
      "0     0.500000  0.500000\n",
      "1     0.333333  0.666667\n",
      "2     0.666667  0.333333\n"
     ]
    },
    {
     "data": {
      "text/html": [
       "<div>\n",
       "<table border=\"1\" class=\"dataframe\">\n",
       "  <thead>\n",
       "    <tr style=\"text-align: right;\">\n",
       "      <th></th>\n",
       "      <th>Los Angeles</th>\n",
       "      <th>New York City</th>\n",
       "      <th>San Francisco</th>\n",
       "      <th>Tokyo</th>\n",
       "    </tr>\n",
       "  </thead>\n",
       "  <tbody>\n",
       "    <tr>\n",
       "      <th>0</th>\n",
       "      <td>118550000</td>\n",
       "      <td>8400000</td>\n",
       "      <td>1837442</td>\n",
       "      <td>13350000</td>\n",
       "    </tr>\n",
       "    <tr>\n",
       "      <th>1</th>\n",
       "      <td>1</td>\n",
       "      <td>2</td>\n",
       "      <td>2</td>\n",
       "      <td>1</td>\n",
       "    </tr>\n",
       "  </tbody>\n",
       "</table>\n",
       "</div>"
      ],
      "text/plain": [
       "   Los Angeles  New York City  San Francisco     Tokyo\n",
       "0    118550000        8400000        1837442  13350000\n",
       "1            1              2              2         1"
      ]
     },
     "execution_count": 19,
     "metadata": {},
     "output_type": "execute_result"
    },
    {
     "data": {
      "image/png": "[encoded data removed]",
      "text/plain": [
       "<matplotlib.figure.Figure at 0x11a82de90>"
      ]
     },
     "metadata": {},
     "output_type": "display_data"
    }
   ],
   "source": [
    "print (df['cat'].tolist()) #CONVERT a series to a list\n",
    "print (df['cat'].value_counts()[:3])\n",
    "\n",
    "#convert ['cat'] into categorical variables\n",
    "catnum = sorted(df['cat'].unique())\n",
    "cat_mapping = dict(zip(catnum, ['hello','yes','no']))\n",
    "df['cat_cat'] = df['cat'].map(cat_mapping)\n",
    "print (df)\n",
    "df['test'] = [ i%2 for i in range(10)]\n",
    "\n",
    "\n",
    "#cross tab\n",
    "cat_xt = pd.crosstab(df['cat'], df['test'])\n",
    "print (cat_xt)\n",
    "test_prop = cat_xt.div(cat_xt.sum(axis = 0), axis =0)  # the 'test' proportion will sum up to 100; axis = 0 is default\n",
    "print ( test_prop)\n",
    "test_prop = cat_xt.div(cat_xt.sum(axis =1), axis= 0)\n",
    "# don't forget the axis =0 in div function, so that it will give you the col percet\n",
    "print ( test_prop)\n",
    "test_prop.plot(kind ='bar', stacked = True)\n",
    "\n",
    "\n",
    "\n",
    "city_population = {\n",
    "    'Tokyo': [13350000,1], # a key-value pair\n",
    "    'Los Angeles': [118550000,1],\n",
    "    'New York City': [8400000,2],\n",
    "    'San Francisco': [1837442,2],\n",
    "}\n",
    "m1 = pd.DataFrame.from_dict(city_population, orient = 'index')\n",
    "m1.columns = ['a','b']\n",
    "m1['a'][1]\n",
    "m2 = pd.DataFrame.from_dict(city_population, orient = 'columns')\n",
    "\n",
    "m2"
   ]
  },
  {
   "cell_type": "code",
   "execution_count": 136,
   "metadata": {
    "collapsed": false
   },
   "outputs": [
    {
     "name": "stdout",
     "output_type": "stream",
     "text": [
      "(['beijing', 'New York City', 'San Francisco', 'Los Angeles', 'Tokyo'], [('beijing', [1, 0]), ('New York City', [8400000, 2]), ('San Francisco', [1837442, 2]), ('Los Angeles', [118550000, 1]), ('Tokyo', [13350000, 1])], [[1, 0], [8400000, 2], [1837442, 2], [118550000, 1], [13350000, 1]])\n"
     ]
    },
    {
     "data": {
      "text/plain": [
       "{'Los Angeles': [118550000, 1],\n",
       " 'New York City': [8400000, 2],\n",
       " 'San Francisco': [1837442, 2],\n",
       " 'Tokyo': [13350000, 1],\n",
       " 'beijing': [1, 0]}"
      ]
     },
     "execution_count": 136,
     "metadata": {},
     "output_type": "execute_result"
    }
   ],
   "source": [
    "# if beijing is not in the dict, then assign value of [1,0] to beijing\n",
    "city_population['beijing'] = city_population.get('beijing',[1,0])\n",
    "print (city_population.keys(), city_population.items(), city_population.values())\n",
    "city_population"
   ]
  },
  {
   "cell_type": "markdown",
   "metadata": {},
   "source": [
    "# read csv"
   ]
  },
  {
   "cell_type": "code",
   "execution_count": 155,
   "metadata": {
    "collapsed": false
   },
   "outputs": [
    {
     "name": "stdout",
     "output_type": "stream",
     "text": [
      "   0  1\n",
      "0  1  2\n",
      "1  5  6\n",
      "\n",
      "   0  1\n",
      "0  3  4\n",
      "1  5  6\n",
      "    2\n",
      "1    \n",
      "3   4\n",
      "5   6 Index([u' 2'], dtype='object')\n",
      "   1\n",
      "0   \n",
      "1  2\n",
      "3  4\n",
      "5  6 Int64Index([1], dtype='int64')\n",
      "   x   y\n",
      "0  0   5\n",
      "1  1  10\n",
      "2  2  15\n",
      "3  3  20\n",
      "4  4  25\n"
     ]
    }
   ],
   "source": [
    "import pandas as pd\n",
    "from StringIO import StringIO\n",
    "s = \"\"\"1, 2\n",
    "       3, 4\n",
    "       5, 6\"\"\"\n",
    "# skiprows =[1] will skip the second row 3,4\n",
    "print pd.read_csv(StringIO(s), skiprows=[1], header=None) \n",
    "\n",
    "print \"\"\n",
    "# skiprows = 1 will skip the first row, if skiprows =2 skip first two rows\n",
    "print pd.read_csv(StringIO(s), skiprows=1, header=None)\n",
    "\n",
    "df = pd.read_csv(StringIO(s), index_col=0) \n",
    "# use the first column as the index - index_col= 0 \n",
    "# use the first row as the header \n",
    "print df, df.columns\n",
    "\n",
    "df = pd.read_csv(StringIO(s), index_col=0, header = None) \n",
    "# use the first column as the index - index_col= 0 \n",
    "# now header here \n",
    "print df, df.columns\n",
    "\n",
    "temp=u\"\"\"0 5\n",
    "1 10\n",
    "2 15\n",
    "3 20\n",
    "4 25\"\"\"\n",
    "column_names = ['x','y']\n",
    "df = pd.read_csv(StringIO(temp), sep=\"\\s+\", header = None, names = column_names) \n",
    "#\\s+ is the regular expression for \"any amount of whitespace\".\n",
    "# no header from original import, use names argument to assign the column names \n",
    "print df"
   ]
  },
  {
   "cell_type": "markdown",
   "metadata": {},
   "source": [
    "# read excel "
   ]
  },
  {
   "cell_type": "code",
   "execution_count": null,
   "metadata": {
    "collapsed": true
   },
   "outputs": [],
   "source": [
    "energy = pd.read_excel(\"./Energy Indicators.xls\",  sheetname ='Energy', \n",
    "                           skip_footer = 31 , skiprows = 18 , header = None , \n",
    "                           names = ['a', 'Country', 'Energy Supply', 'Energy Supply per Capita', '% Renewable'],\n",
    "                           index_col =1 )\n",
    "#don't know how to use skip_footer"
   ]
  },
  {
   "cell_type": "markdown",
   "metadata": {},
   "source": [
    "# Rename "
   ]
  },
  {
   "cell_type": "code",
   "execution_count": 161,
   "metadata": {
    "collapsed": false
   },
   "outputs": [
    {
     "name": "stdout",
     "output_type": "stream",
     "text": [
      "   Hello  Goodbye\n",
      "0      0        5\n",
      "1      1       10\n",
      "2      2       15\n",
      "3      3       20\n",
      "4      4       25\n"
     ]
    }
   ],
   "source": [
    "df.rename(columns = {'x':\"Hello\", 'y':'Goodbye'}, inplace = True, index = str) # change the column name x to Hello \n",
    "#inplace = True means you don't create a copy of the original df.\n",
    "# don't quite understand what's index = str\n",
    "print df"
   ]
  },
  {
   "cell_type": "code",
   "execution_count": null,
   "metadata": {
    "collapsed": true
   },
   "outputs": [],
   "source": [
    "for col in df.columns:\n",
    "    if col[:2]=='01':  # if the first two letters equal to 01 then do \n",
    "        df.rename(columns={col:'Gold' + col[4:]}, inplace=True)  #df.rename(columns = {col: 'Gold'})\n",
    "    if col[:2]=='02':\n",
    "        df.rename(columns={col:'Silver' + col[4:]}, inplace=True)\n",
    "    if col[:2]=='03':\n",
    "        df.rename(columns={col:'Bronze' + col[4:]}, inplace=True)\n",
    "    if col[:1]=='№':\n",
    "        df.rename(columns={col:'#' + col[1:]}, inplace=True) "
   ]
  },
  {
   "cell_type": "markdown",
   "metadata": {},
   "source": [
    "# DROP and Keep VARIABLES "
   ]
  },
  {
   "cell_type": "code",
   "execution_count": 176,
   "metadata": {
    "collapsed": false
   },
   "outputs": [
    {
     "data": {
      "text/html": [
       "<div>\n",
       "<table border=\"1\" class=\"dataframe\">\n",
       "  <thead>\n",
       "    <tr style=\"text-align: right;\">\n",
       "      <th></th>\n",
       "      <th>Hello</th>\n",
       "      <th>Goodbye</th>\n",
       "      <th>Total</th>\n",
       "    </tr>\n",
       "  </thead>\n",
       "  <tbody>\n",
       "    <tr>\n",
       "      <th>0</th>\n",
       "      <td>0</td>\n",
       "      <td>5</td>\n",
       "      <td>5</td>\n",
       "    </tr>\n",
       "    <tr>\n",
       "      <th>1</th>\n",
       "      <td>1</td>\n",
       "      <td>10</td>\n",
       "      <td>11</td>\n",
       "    </tr>\n",
       "    <tr>\n",
       "      <th>2</th>\n",
       "      <td>2</td>\n",
       "      <td>15</td>\n",
       "      <td>17</td>\n",
       "    </tr>\n",
       "    <tr>\n",
       "      <th>3</th>\n",
       "      <td>3</td>\n",
       "      <td>20</td>\n",
       "      <td>23</td>\n",
       "    </tr>\n",
       "    <tr>\n",
       "      <th>4</th>\n",
       "      <td>4</td>\n",
       "      <td>25</td>\n",
       "      <td>29</td>\n",
       "    </tr>\n",
       "  </tbody>\n",
       "</table>\n",
       "</div>"
      ],
      "text/plain": [
       "   Hello  Goodbye  Total\n",
       "0      0        5      5\n",
       "1      1       10     11\n",
       "2      2       15     17\n",
       "3      3       20     23\n",
       "4      4       25     29"
      ]
     },
     "execution_count": 176,
     "metadata": {},
     "output_type": "execute_result"
    }
   ],
   "source": [
    "df['Totals'] = df['Hello']  + df['Goodbye']\n",
    "df['Total2'] = df['Hello']  + df['Goodbye']\n",
    "df['Total3'] = df['Hello']  + df['Goodbye']\n",
    "df = df.drop('Totals', axis = 1) # drop variable Totals; axis =1 means it's a column;  0 for rows\n",
    "#df.drop('Totals', axis = 1, inplace = True) # the above method will reassign the dataframe; this one don't create a copy\n",
    "\n",
    "df = df.drop(['Total2','Total3'], axis = 1) #drop multiple columns\n",
    "df\n",
    "\n",
    "df.drop(df.columns[[0,1,3]], axis=1, inplace=True) # this will drop the columns by position. two layers of [[]]\n",
    "\n",
    "#keep a list of variables \n",
    "lsyear = [str(i) for i in range(2006, 2016)]\n",
    "lsyear.append('Country Name')\n",
    "GDP1 = GDP[lsyear]"
   ]
  },
  {
   "cell_type": "markdown",
   "metadata": {},
   "source": [
    "# Slice data frame based on the condition "
   ]
  },
  {
   "cell_type": "code",
   "execution_count": 189,
   "metadata": {
    "collapsed": false
   },
   "outputs": [
    {
     "data": {
      "text/plain": [
       "'4'"
      ]
     },
     "execution_count": 189,
     "metadata": {},
     "output_type": "execute_result"
    }
   ],
   "source": [
    "df = df[df['Hello'] > 3]  #put condiction within [] ;the new df has to be assigned\n",
    "df1 = df[(df['Hello'] > 0) & (df['Total'] == 17)]  # if you need to apply two conditions, use & and each condition\n",
    "#should be placed in ()\n",
    "df1\n",
    "df2 = df[(df['Hello'] > 0) | (df['Total'] == 17)] # or \n",
    "df2\n",
    "df2.index.get_values()[0]  # get the index's value of the df2 \n",
    "\n",
    "#select a column with values starting with 'Washington', use .str.startswith('was')\n",
    "# use .isin([1,2]) for == to multiple values \n",
    "census_df2 = census_df[(census_df['REGION'].isin([1,2])) & (census_df['CTYNAME'].str.startswith('Washington')) \n",
    "                          & (census_df['SUMLEV']==50) &\n",
    "                          (census_df['POPESTIMATE2015'] - census_df['POPESTIMATE2014']>0 ) ]\n",
    "\n",
    "#data['unique_carrier'] == 'WN'] creates a boolean index that returns True for rows that represent Southwest flights\n",
    "#Wrapping that in data[...] applies the boolean index to the DataFrame data.\n",
    "#['arr_delay'] reduces the columns to just the [‘arr_delay’] column (and the index).\n",
    "southwest = data[data['unique_carrier'] == 'WN']['arr_delay'] \n",
    "\n",
    "\n",
    "#filter by the first 20 counted \n",
    "hi_volume = data['origin'].value_counts()[:20]  #identify the high volume airport\n",
    "hi_volume_airports_names = hi_volume.index.tolist() # put their index into a list\n",
    "\n",
    "hi_volume_airports = data[data['origin'].isin(hi_volume_airports_names)]\n",
    "#filter the data so only the first 20 high volume aiport is inclued\n",
    "\n",
    "data[['platform','platform_type']][14:18] # rows with different values to make sure it worked\n",
    "\n",
    "\n"
   ]
  },
  {
   "cell_type": "markdown",
   "metadata": {},
   "source": [
    "# sorting"
   ]
  },
  {
   "cell_type": "code",
   "execution_count": null,
   "metadata": {
    "collapsed": true
   },
   "outputs": [],
   "source": [
    "m = census_df2.sort('CENSUS2010POP', ascending = 0)  #sort the datafrrame by variable 'census2010pop\n",
    "    #ascending = 0 means sort descending \n",
    "    #census_df2.sort('CENSUS2010POP', ascending = 0, inplace = True)\n",
    "    # 不能写成 census_df2['CENSUS2010POP']\n",
    "    return m[:3]['STNAME'].tolist()\n",
    "df.sort(['v1','v2'], ascendin = [0,1])\n",
    "#sort a serie\n",
    "avgGDP.sort(inplace = True, ascending = False )  #if no new copy specified, use inplace = True \n",
    "\n",
    "#select the nlargest values within a group\n",
    "df.sort(['v1','v2'], ascendin = [0,1])\n",
    "df.groupby('STATE').head(3).groupby('STATE').agg({'Pop': sum})\n",
    "data.sort_values(by='arr_delay', ascending=False)[:10]  #the df.sort/order is deprecated "
   ]
  },
  {
   "cell_type": "markdown",
   "metadata": {},
   "source": [
    "# List comprehension and work with strings "
   ]
  },
  {
   "cell_type": "code",
   "execution_count": null,
   "metadata": {
    "collapsed": true
   },
   "outputs": [],
   "source": [
    "Top15['PopEst2'] = [\"{:,.2f}\".format(i)  for i in Top15['PopEst']]  #convert a number to string 2 decimal place, thousand separator \n",
    "\n",
    "#re-code '...'into np.NaN\n",
    "for m in range(1,4):\n",
    "        energy.iloc[:, m] = [np.NaN if i == '...' else i for i in energy.iloc[:, m] ]  \n",
    "        \n",
    "energy['Country'] =[re.sub(\"[0-9]+\",\"\", str(i) ) for i in energy['Country']]    #replace numbers with ''\n",
    "energy['Country'] =[re.sub(\"\\(.+\\)\",\"\", str(i).strip() ) for i in energy['Country']]   \n",
    "\n",
    "Top15['Rank_renew'] = [1 if i > medianv  else 0 for i in Top15['% Renewable'] ]\n",
    "\n",
    "\n",
    " "
   ]
  },
  {
   "cell_type": "markdown",
   "metadata": {},
   "source": [
    "# Recoding "
   ]
  },
  {
   "cell_type": "code",
   "execution_count": 32,
   "metadata": {
    "collapsed": false
   },
   "outputs": [
    {
     "name": "stderr",
     "output_type": "stream",
     "text": [
      "/Users/weizeng/anaconda/lib/python2.7/site-packages/ipykernel/__main__.py:4: VisibleDeprecationWarning: using a non-integer number instead of an integer will result in an error in the future\n"
     ]
    },
    {
     "ename": "IndexError",
     "evalue": "only integers, slices (`:`), ellipsis (`...`), numpy.newaxis (`None`) and integer or boolean arrays are valid indices",
     "output_type": "error",
     "traceback": [
      "\u001b[0;31m---------------------------------------------------------------------------\u001b[0m",
      "\u001b[0;31mIndexError\u001b[0m                                Traceback (most recent call last)",
      "\u001b[0;32m<ipython-input-32-332884bec809>\u001b[0m in \u001b[0;36m<module>\u001b[0;34m()\u001b[0m\n\u001b[1;32m      2\u001b[0m         \u001b[0mdf\u001b[0m\u001b[0;34m[\u001b[0m\u001b[0mvar\u001b[0m\u001b[0;34m]\u001b[0m \u001b[0;34m=\u001b[0m \u001b[0mdf\u001b[0m\u001b[0;34m[\u001b[0m\u001b[0mvar\u001b[0m\u001b[0;34m]\u001b[0m\u001b[0;34m.\u001b[0m\u001b[0mstr\u001b[0m\u001b[0;34m.\u001b[0m\u001b[0mreplace\u001b[0m\u001b[0;34m(\u001b[0m\u001b[0mname1\u001b[0m\u001b[0;34m,\u001b[0m \u001b[0mname2\u001b[0m\u001b[0;34m)\u001b[0m\u001b[0;34m.\u001b[0m\u001b[0mstr\u001b[0m\u001b[0;34m.\u001b[0m\u001b[0mstrip\u001b[0m\u001b[0;34m(\u001b[0m\u001b[0;34m)\u001b[0m\u001b[0;34m\u001b[0m\u001b[0m\n\u001b[1;32m      3\u001b[0m \u001b[0;34m\u001b[0m\u001b[0m\n\u001b[0;32m----> 4\u001b[0;31m \u001b[0mmedical_referrer_index\u001b[0m \u001b[0;34m=\u001b[0m \u001b[0mdata\u001b[0m\u001b[0;34m[\u001b[0m\u001b[0;34m'referrer'\u001b[0m\u001b[0;34m]\u001b[0m\u001b[0;34m.\u001b[0m\u001b[0mstr\u001b[0m\u001b[0;34m.\u001b[0m\u001b[0mcontains\u001b[0m\u001b[0;34m(\u001b[0m\u001b[0;34m'medical'\u001b[0m\u001b[0;34m)\u001b[0m \u001b[0;31m#this return boolean mask based on whether the string contains 'medical\u001b[0m\u001b[0;34m\u001b[0m\u001b[0m\n\u001b[0m\u001b[1;32m      5\u001b[0m \u001b[0mmedical_referrals\u001b[0m \u001b[0;34m=\u001b[0m \u001b[0mdata\u001b[0m\u001b[0;34m[\u001b[0m\u001b[0mmedical_referrer_index\u001b[0m\u001b[0;34m]\u001b[0m \u001b[0;31m#select records containing medical\u001b[0m\u001b[0;34m\u001b[0m\u001b[0m\n\u001b[1;32m      6\u001b[0m \u001b[0;31m#it's like SQL WHERE referrer LIKE \"%medical%\";\u001b[0m\u001b[0;34m\u001b[0m\u001b[0;34m\u001b[0m\u001b[0m\n",
      "\u001b[0;31mIndexError\u001b[0m: only integers, slices (`:`), ellipsis (`...`), numpy.newaxis (`None`) and integer or boolean arrays are valid indices"
     ]
    }
   ],
   "source": [
    "def subt(df, var, name1, name2):\n",
    "        df[var] = df[var].str.replace(name1, name2).str.strip()  \n",
    "        \n",
    "medical_referrer_index = data['referrer'].str.contains('medical') #this return boolean mask based on whether the string contains 'medical\n",
    "medical_referrals = data[medical_referrer_index] #select records containing medical\n",
    "#it's like SQL WHERE referrer LIKE \"%medical%\";\n",
    "\n",
    "energy['Country'] =[re.sub(\"[0-9]+\",\"\", str(i) ) for i in energy['Country']] \n",
    "\n",
    "# if arrival delay > 0 then code delayed as True; else code delay Flase\n",
    "data['delayed'] = data['arr_delay'].apply(lambda x: x>0)\n",
    "#lambda-> it's function  x: the parameter  x>0 what to do with the parameter\n",
    "#.apply will go through every record one by one in data['delayed']\n",
    "\n",
    "#a little bit more on lambda\n",
    "F = lambda n: n if n < 2 else F(n-1) + F(n-2)\n",
    "fibs = lambda n: map(F, range(n))  #变量 n， map F function到list ［0，1，2，3，4］\n",
    "cub = lambda n: n**3\n",
    "map(cub, fibs(5))\n",
    "\n"
   ]
  },
  {
   "cell_type": "code",
   "execution_count": 35,
   "metadata": {
    "collapsed": false
   },
   "outputs": [
    {
     "data": {
      "text/html": [
       "<div>\n",
       "<table border=\"1\" class=\"dataframe\">\n",
       "  <thead>\n",
       "    <tr style=\"text-align: right;\">\n",
       "      <th></th>\n",
       "      <th>A</th>\n",
       "      <th>B</th>\n",
       "      <th>C</th>\n",
       "      <th>cat</th>\n",
       "      <th>cat_cat</th>\n",
       "      <th>test</th>\n",
       "      <th>category_0</th>\n",
       "      <th>category_1</th>\n",
       "      <th>category_2</th>\n",
       "      <th>category_0</th>\n",
       "      <th>category_1</th>\n",
       "      <th>category_2</th>\n",
       "    </tr>\n",
       "  </thead>\n",
       "  <tbody>\n",
       "    <tr>\n",
       "      <th>2016-04-23</th>\n",
       "      <td>0.635687</td>\n",
       "      <td>0.635687</td>\n",
       "      <td>0.635687</td>\n",
       "      <td>0</td>\n",
       "      <td>hello</td>\n",
       "      <td>0</td>\n",
       "      <td>1.0</td>\n",
       "      <td>0.0</td>\n",
       "      <td>0.0</td>\n",
       "      <td>1.0</td>\n",
       "      <td>0.0</td>\n",
       "      <td>0.0</td>\n",
       "    </tr>\n",
       "    <tr>\n",
       "      <th>2016-04-24</th>\n",
       "      <td>0.008352</td>\n",
       "      <td>0.008352</td>\n",
       "      <td>0.008352</td>\n",
       "      <td>1</td>\n",
       "      <td>yes</td>\n",
       "      <td>1</td>\n",
       "      <td>0.0</td>\n",
       "      <td>1.0</td>\n",
       "      <td>0.0</td>\n",
       "      <td>0.0</td>\n",
       "      <td>1.0</td>\n",
       "      <td>0.0</td>\n",
       "    </tr>\n",
       "    <tr>\n",
       "      <th>2016-04-25</th>\n",
       "      <td>0.485114</td>\n",
       "      <td>0.485114</td>\n",
       "      <td>0.485114</td>\n",
       "      <td>2</td>\n",
       "      <td>no</td>\n",
       "      <td>0</td>\n",
       "      <td>0.0</td>\n",
       "      <td>0.0</td>\n",
       "      <td>1.0</td>\n",
       "      <td>0.0</td>\n",
       "      <td>0.0</td>\n",
       "      <td>1.0</td>\n",
       "    </tr>\n",
       "    <tr>\n",
       "      <th>2016-04-26</th>\n",
       "      <td>0.607709</td>\n",
       "      <td>0.607709</td>\n",
       "      <td>0.607709</td>\n",
       "      <td>0</td>\n",
       "      <td>hello</td>\n",
       "      <td>1</td>\n",
       "      <td>1.0</td>\n",
       "      <td>0.0</td>\n",
       "      <td>0.0</td>\n",
       "      <td>1.0</td>\n",
       "      <td>0.0</td>\n",
       "      <td>0.0</td>\n",
       "    </tr>\n",
       "    <tr>\n",
       "      <th>2016-04-27</th>\n",
       "      <td>0.554753</td>\n",
       "      <td>0.554753</td>\n",
       "      <td>0.554753</td>\n",
       "      <td>1</td>\n",
       "      <td>yes</td>\n",
       "      <td>0</td>\n",
       "      <td>0.0</td>\n",
       "      <td>1.0</td>\n",
       "      <td>0.0</td>\n",
       "      <td>0.0</td>\n",
       "      <td>1.0</td>\n",
       "      <td>0.0</td>\n",
       "    </tr>\n",
       "    <tr>\n",
       "      <th>2016-04-28</th>\n",
       "      <td>0.904214</td>\n",
       "      <td>0.904214</td>\n",
       "      <td>0.904214</td>\n",
       "      <td>2</td>\n",
       "      <td>no</td>\n",
       "      <td>1</td>\n",
       "      <td>0.0</td>\n",
       "      <td>0.0</td>\n",
       "      <td>1.0</td>\n",
       "      <td>0.0</td>\n",
       "      <td>0.0</td>\n",
       "      <td>1.0</td>\n",
       "    </tr>\n",
       "    <tr>\n",
       "      <th>2016-04-29</th>\n",
       "      <td>0.831663</td>\n",
       "      <td>0.831663</td>\n",
       "      <td>0.831663</td>\n",
       "      <td>0</td>\n",
       "      <td>hello</td>\n",
       "      <td>0</td>\n",
       "      <td>1.0</td>\n",
       "      <td>0.0</td>\n",
       "      <td>0.0</td>\n",
       "      <td>1.0</td>\n",
       "      <td>0.0</td>\n",
       "      <td>0.0</td>\n",
       "    </tr>\n",
       "    <tr>\n",
       "      <th>2016-04-30</th>\n",
       "      <td>0.065390</td>\n",
       "      <td>0.065390</td>\n",
       "      <td>0.065390</td>\n",
       "      <td>1</td>\n",
       "      <td>yes</td>\n",
       "      <td>1</td>\n",
       "      <td>0.0</td>\n",
       "      <td>1.0</td>\n",
       "      <td>0.0</td>\n",
       "      <td>0.0</td>\n",
       "      <td>1.0</td>\n",
       "      <td>0.0</td>\n",
       "    </tr>\n",
       "    <tr>\n",
       "      <th>2016-05-01</th>\n",
       "      <td>0.927551</td>\n",
       "      <td>0.927551</td>\n",
       "      <td>0.927551</td>\n",
       "      <td>2</td>\n",
       "      <td>no</td>\n",
       "      <td>0</td>\n",
       "      <td>0.0</td>\n",
       "      <td>0.0</td>\n",
       "      <td>1.0</td>\n",
       "      <td>0.0</td>\n",
       "      <td>0.0</td>\n",
       "      <td>1.0</td>\n",
       "    </tr>\n",
       "    <tr>\n",
       "      <th>2016-05-02</th>\n",
       "      <td>0.964815</td>\n",
       "      <td>0.964815</td>\n",
       "      <td>0.964815</td>\n",
       "      <td>0</td>\n",
       "      <td>hello</td>\n",
       "      <td>1</td>\n",
       "      <td>1.0</td>\n",
       "      <td>0.0</td>\n",
       "      <td>0.0</td>\n",
       "      <td>1.0</td>\n",
       "      <td>0.0</td>\n",
       "      <td>0.0</td>\n",
       "    </tr>\n",
       "  </tbody>\n",
       "</table>\n",
       "</div>"
      ],
      "text/plain": [
       "                   A         B         C  cat cat_cat  test  category_0  \\\n",
       "2016-04-23  0.635687  0.635687  0.635687    0   hello     0         1.0   \n",
       "2016-04-24  0.008352  0.008352  0.008352    1     yes     1         0.0   \n",
       "2016-04-25  0.485114  0.485114  0.485114    2      no     0         0.0   \n",
       "2016-04-26  0.607709  0.607709  0.607709    0   hello     1         1.0   \n",
       "2016-04-27  0.554753  0.554753  0.554753    1     yes     0         0.0   \n",
       "2016-04-28  0.904214  0.904214  0.904214    2      no     1         0.0   \n",
       "2016-04-29  0.831663  0.831663  0.831663    0   hello     0         1.0   \n",
       "2016-04-30  0.065390  0.065390  0.065390    1     yes     1         0.0   \n",
       "2016-05-01  0.927551  0.927551  0.927551    2      no     0         0.0   \n",
       "2016-05-02  0.964815  0.964815  0.964815    0   hello     1         1.0   \n",
       "\n",
       "            category_1  category_2  category_0  category_1  category_2  \n",
       "2016-04-23         0.0         0.0         1.0         0.0         0.0  \n",
       "2016-04-24         1.0         0.0         0.0         1.0         0.0  \n",
       "2016-04-25         0.0         1.0         0.0         0.0         1.0  \n",
       "2016-04-26         0.0         0.0         1.0         0.0         0.0  \n",
       "2016-04-27         1.0         0.0         0.0         1.0         0.0  \n",
       "2016-04-28         0.0         1.0         0.0         0.0         1.0  \n",
       "2016-04-29         0.0         0.0         1.0         0.0         0.0  \n",
       "2016-04-30         1.0         0.0         0.0         1.0         0.0  \n",
       "2016-05-01         0.0         1.0         0.0         0.0         1.0  \n",
       "2016-05-02         0.0         0.0         1.0         0.0         0.0  "
      ]
     },
     "execution_count": 35,
     "metadata": {},
     "output_type": "execute_result"
    }
   ],
   "source": [
    "\n",
    "#dichotomize variables \n",
    "pd.get_dummies(df['cat'], prefix ='category')\n",
    "\n",
    "#combine it back with the original data frame\n",
    "df = pd.concat([df, pd.get_dummies(df['cat'], prefix ='category')], axis =1 )\n",
    "\n",
    "df\n"
   ]
  },
  {
   "cell_type": "markdown",
   "metadata": {},
   "source": [
    "# merge"
   ]
  },
  {
   "cell_type": "code",
   "execution_count": null,
   "metadata": {
    "collapsed": true
   },
   "outputs": [],
   "source": [
    "df = pd.merge(energy, ScimEn_15, how = 'inner' , on = 'Country' )\n",
    "df1 = pd.merge(df, GDP, how = 'inner' , left_on = 'Country', right_on ='Country Name')"
   ]
  },
  {
   "cell_type": "markdown",
   "metadata": {},
   "source": [
    "# simple calculation "
   ]
  },
  {
   "cell_type": "code",
   "execution_count": null,
   "metadata": {
    "collapsed": true
   },
   "outputs": [],
   "source": [
    "country6 = answer_three().index.get_values()[5] \n",
    "#select the data by index and column     \n",
    "change = Top15.loc[country6, '2015'] - Top15.loc[country6, '2006'] \n",
    "\n",
    "avgGDP = Top15[['2006', '2007', '2008', '2009', '2010', '2011', '2012', '2013', '2014', '2015']].mean(axis = 1)\n",
    "\n",
    "\n",
    "#select a country with the maximum renewable \n",
    "value = max(Top15['% Renewable'])\n",
    "country = Top15[Top15['% Renewable'] == value].index.get_values()[0]\n",
    "\n",
    "#create a dataframe\n",
    "data = {'name' : ['bill', 'joe', 'steve'],\n",
    "    'test1' : [85, 75, 85],\n",
    "    'test2' : [35, 45, 83],\n",
    "     'test3' : [51, 61, 45]}\n",
    "frame = pd.DataFrame(data)\n",
    "#get the maximum across the columns in a frame \n",
    "frame['HighScore'] = frame[['test1','test2','test3']].max(axis=1)\n",
    "frame['HighScore'] = frame[['test1','test2','test3']].apply(max, axis=1)\n",
    "#if you need to get the id of the column\n",
    "frame['Maxtest'] = frame[['test1','test2','test3']].idxmax(axis=1)\n",
    "\n",
    "#get the quick summary of a dataframe \n",
    "southwest.describe()"
   ]
  },
  {
   "cell_type": "code",
   "execution_count": null,
   "metadata": {
    "collapsed": true
   },
   "outputs": [],
   "source": [
    "#binning and groupby"
   ]
  },
  {
   "cell_type": "code",
   "execution_count": null,
   "metadata": {
    "collapsed": true
   },
   "outputs": [],
   "source": [
    "Top15['Continent'] = [ContinentDict[key] for key in Top15.index]\n",
    "Top15['Renewbin'] = pd.cut(Top15['% Renewable'],6)\n",
    "m = Top15.groupby(['Continent', 'Renewbin']).size() #counts for each group; return a series with two level of indexes"
   ]
  },
  {
   "cell_type": "markdown",
   "metadata": {},
   "source": [
    "# work with Index "
   ]
  },
  {
   "cell_type": "code",
   "execution_count": null,
   "metadata": {
    "collapsed": true
   },
   "outputs": [],
   "source": []
  },
  {
   "cell_type": "markdown",
   "metadata": {},
   "source": [
    "# deal with NA"
   ]
  },
  {
   "cell_type": "code",
   "execution_count": 1,
   "metadata": {
    "collapsed": false
   },
   "outputs": [
    {
     "ename": "NameError",
     "evalue": "name 'data' is not defined",
     "output_type": "error",
     "traceback": [
      "\u001b[0;31m---------------------------------------------------------------------------\u001b[0m",
      "\u001b[0;31mNameError\u001b[0m                                 Traceback (most recent call last)",
      "\u001b[0;32m<ipython-input-1-6736f9177f2d>\u001b[0m in \u001b[0;36m<module>\u001b[0;34m()\u001b[0m\n\u001b[0;32m----> 1\u001b[0;31m \u001b[0mdata\u001b[0m \u001b[0;34m=\u001b[0m \u001b[0mdata\u001b[0m\u001b[0;34m.\u001b[0m\u001b[0mfillna\u001b[0m\u001b[0;34m(\u001b[0m\u001b[0mnp\u001b[0m\u001b[0;34m.\u001b[0m\u001b[0mnan\u001b[0m\u001b[0;34m)\u001b[0m\u001b[0;34m\u001b[0m\u001b[0m\n\u001b[0m",
      "\u001b[0;31mNameError\u001b[0m: name 'data' is not defined"
     ]
    }
   ],
   "source": [
    "data = data.fillna(np.nan)\n"
   ]
  },
  {
   "cell_type": "markdown",
   "metadata": {},
   "source": [
    "# give frequency tables"
   ]
  },
  {
   "cell_type": "code",
   "execution_count": null,
   "metadata": {
    "collapsed": true
   },
   "outputs": [],
   "source": [
    "data['delayed'].value_counts()\n",
    "\n",
    "not_delayed, delayed = data['cancelled'].value_counts()\n",
    "\n",
    "print delayed / (delayed + not_delayed), '<- without conversion'\n",
    "print float(delayed) / (delayed + not_delayed), '<- _with_ conversion!'\n",
    "    "
   ]
  },
  {
   "cell_type": "markdown",
   "metadata": {},
   "source": [
    "# Groupby"
   ]
  },
  {
   "cell_type": "code",
   "execution_count": null,
   "metadata": {
    "collapsed": true
   },
   "outputs": [],
   "source": [
    "#Think of groupby() as splitting the dataset data into buckets by carrier (‘unique_carrier’),\n",
    "#and then splitting the records inside each carrier bucket into delayed or not delayed (‘delayed’).\n",
    "#The result is assigned to the group_by_carrier variable.\n",
    "\n",
    "group_by_carrier = data.groupby(['unique_carrier','delayed'])  #group_by_carrier is just angroupby object. \n",
    "\n",
    "#you need to provide instruction \n",
    "group_by_carrier.size()  # you can the counts for each group \n",
    "'''\n",
    "unique_carrier  delayed\n",
    "AA              False       8912\n",
    "                True        9841\n",
    "AS              False       3527\n",
    "                True        2104\n",
    "'''\n",
    "count_delays_by_carrier = group_by_carrier.size().unstack() # this will make it easier to read by divide; \n",
    "count_delays_by_carrier\n",
    "'''\n",
    "delayed\t  False\tTrue\n",
    "unique_carrier\t\t\n",
    "AA\t      8912\t9841\n",
    "AS\t      3527\t2104\n",
    "'''\n",
    "\n",
    "\n"
   ]
  },
  {
   "cell_type": "code",
   "execution_count": 61,
   "metadata": {
    "collapsed": false
   },
   "outputs": [
    {
     "name": "stdout",
     "output_type": "stream",
     "text": [
      "cat       0  1  2\n",
      "A                \n",
      "0.008352  0  1  0\n",
      "0.065390  0  1  0\n",
      "0.485114  0  0  1\n",
      "0.554753  0  1  0\n",
      "0.607709  1  0  0\n",
      "0.635687  1  0  0\n",
      "0.831663  1  0  0\n",
      "0.904214  0  0  1\n",
      "0.927551  0  0  1\n",
      "0.964815  1  0  0\n"
     ]
    },
    {
     "data": {
      "text/html": [
       "<div>\n",
       "<table border=\"1\" class=\"dataframe\">\n",
       "  <thead>\n",
       "    <tr style=\"text-align: right;\">\n",
       "      <th></th>\n",
       "      <th>mean</th>\n",
       "    </tr>\n",
       "    <tr>\n",
       "      <th>cat</th>\n",
       "      <th></th>\n",
       "    </tr>\n",
       "  </thead>\n",
       "  <tbody>\n",
       "    <tr>\n",
       "      <th>0</th>\n",
       "      <td>0.759969</td>\n",
       "    </tr>\n",
       "    <tr>\n",
       "      <th>1</th>\n",
       "      <td>0.209498</td>\n",
       "    </tr>\n",
       "    <tr>\n",
       "      <th>2</th>\n",
       "      <td>0.772293</td>\n",
       "    </tr>\n",
       "  </tbody>\n",
       "</table>\n",
       "</div>"
      ],
      "text/plain": [
       "         mean\n",
       "cat          \n",
       "0    0.759969\n",
       "1    0.209498\n",
       "2    0.772293"
      ]
     },
     "execution_count": 61,
     "metadata": {},
     "output_type": "execute_result"
    }
   ],
   "source": [
    "print pd.crosstab(df['A'], df['cat'])\n",
    "df['A2'] = df['A']\n",
    "df['A'].groupby(df['cat']).agg({'mean':np.mean})\n"
   ]
  },
  {
   "cell_type": "markdown",
   "metadata": {},
   "source": [
    "# Missing"
   ]
  },
  {
   "cell_type": "code",
   "execution_count": 22,
   "metadata": {
    "collapsed": false
   },
   "outputs": [
    {
     "data": {
      "text/plain": [
       "0"
      ]
     },
     "execution_count": 22,
     "metadata": {},
     "output_type": "execute_result"
    }
   ],
   "source": [
    "#printn all cases with missing in some columns\n",
    "df[df['test'].isnull()]\n",
    "sum(df['test'].isnull())\n",
    "\n",
    "#fill age using \n",
    "df['test_fill'] = df['test']\n",
    "df['test_fill'] = df['testfill'].groupby([df['sex'],df['class']]).apply(lambda x: x.fillna(x.median()))\n",
    "\n"
   ]
  },
  {
   "cell_type": "markdown",
   "metadata": {},
   "source": [
    "# Pivot Table"
   ]
  },
  {
   "cell_type": "code",
   "execution_count": null,
   "metadata": {
    "collapsed": true
   },
   "outputs": [],
   "source": [
    "flights_by_carrier = data.pivot_table(index='flight_date', columns='unique_carrier', values='flight_num', aggfunc='count')\n",
    "flights_by_carrier.head()\n",
    "\n",
    "#unique_carrier\tAA\tAS\tB6\tDL\tEV\tF9\tHA\tMQ\tNK\tOO\tUA\tUS\tVX\tWN\n",
    "flight_date\t\t\t\t\t\t\t\t\t\t\t\t\t\t\n",
    "2015-01-02\t1545\t477\t759\t2271\t1824\t254\t224\t1046\t287\t1763\t1420\t1177\t176\t351\n",
    "\n",
    "\n",
    "#this pivot_table function will use the default setting, that is use flight_date as columns, and all other numeric mvariables \n",
    "#as rows, and calcuate each variables' mean\n",
    "data.pivot_table(columns='flight_date')\n",
    "\n",
    "#aggregate by mean\n",
    "data.pivot_table(columns='unique_carrier', values='arr_delay', aggfunc=np.mean).sort_values(ascending=False)\n",
    "\n"
   ]
  },
  {
   "cell_type": "markdown",
   "metadata": {},
   "source": [
    "# SAMPLE "
   ]
  },
  {
   "cell_type": "code",
   "execution_count": 100,
   "metadata": {
    "collapsed": false
   },
   "outputs": [
    {
     "name": "stdout",
     "output_type": "stream",
     "text": [
      "cat                0         1         2\n",
      "2016-04-22  0.381372       NaN       NaN\n",
      "2016-04-23       NaN  0.320087       NaN\n",
      "2016-04-24       NaN       NaN  0.248144\n",
      "2016-04-25  0.981327       NaN       NaN\n",
      "2016-04-26       NaN  0.539875       NaN\n",
      "2016-04-27       NaN       NaN  0.717009\n",
      "2016-04-28  0.243762       NaN       NaN\n",
      "2016-04-29       NaN  0.581007       NaN\n",
      "2016-04-30       NaN       NaN  0.808054\n",
      "2016-05-01  0.763960       NaN       NaN\n"
     ]
    },
    {
     "data": {
      "text/plain": [
       "<matplotlib.axes._subplots.AxesSubplot at 0x11fecf190>"
      ]
     },
     "execution_count": 100,
     "metadata": {},
     "output_type": "execute_result"
    },
    {
     "data": {
      "image/png": "[encoded data removed]",
      "text/plain": [
       "<matplotlib.figure.Figure at 0x11fb77d10>"
      ]
     },
     "metadata": {},
     "output_type": "display_data"
    }
   ],
   "source": [
    "#create a data frame with random numbers\n",
    "\n",
    "import datetime\n",
    "todays_date = datetime.datetime.now().date()\n",
    "index = pd.date_range(todays_date-datetime.timedelta(200), periods=10, freq='D')\n",
    "columns = ['A','B', 'C']\n",
    "\n",
    "data = np.array([np.random.rand(10)]*3).T\n",
    "df = pd.DataFrame(data, index=index, columns=columns)\n",
    "\n",
    "df['cat'] = [i%3 for i in range(10)]\n",
    "df\n",
    "print (df.pivot_table(index = index, columns= 'cat', values= 'A'))\n",
    "df.pivot_table(index = index, columns= 'cat', values= 'A').plot(kind='box')"
   ]
  },
  {
   "cell_type": "code",
   "execution_count": 92,
   "metadata": {
    "collapsed": false
   },
   "outputs": [
    {
     "data": {
      "text/html": [
       "<div>\n",
       "<table border=\"1\" class=\"dataframe\">\n",
       "  <thead>\n",
       "    <tr style=\"text-align: right;\">\n",
       "      <th></th>\n",
       "      <th>A</th>\n",
       "      <th>B</th>\n",
       "      <th>C</th>\n",
       "      <th>cat</th>\n",
       "    </tr>\n",
       "  </thead>\n",
       "  <tbody>\n",
       "    <tr>\n",
       "      <th>2016-11-05</th>\n",
       "      <td>0.552998</td>\n",
       "      <td>0.552998</td>\n",
       "      <td>0.552998</td>\n",
       "      <td>0</td>\n",
       "    </tr>\n",
       "  </tbody>\n",
       "</table>\n",
       "</div>"
      ],
      "text/plain": [
       "                   A         B         C  cat\n",
       "2016-11-05  0.552998  0.552998  0.552998    0"
      ]
     },
     "execution_count": 92,
     "metadata": {},
     "output_type": "execute_result"
    }
   ],
   "source": [
    "df.sample(1)  # randomly select one record to display "
   ]
  },
  {
   "cell_type": "markdown",
   "metadata": {},
   "source": [
    "# Plot"
   ]
  },
  {
   "cell_type": "code",
   "execution_count": 27,
   "metadata": {
    "collapsed": false
   },
   "outputs": [
    {
     "data": {
      "text/plain": [
       "<matplotlib.axes._subplots.AxesSubplot at 0x11b25b5d0>"
      ]
     },
     "execution_count": 27,
     "metadata": {},
     "output_type": "execute_result"
    },
    {
     "data": {
      "image/png": "[encoded data removed]",
      "text/plain": [
       "<matplotlib.figure.Figure at 0x11a818a90>"
      ]
     },
     "metadata": {},
     "output_type": "display_data"
    },
    {
     "data": {
      "image/png": "[encoded data removed]",
      "text/plain": [
       "<matplotlib.figure.Figure at 0x11a818ad0>"
      ]
     },
     "metadata": {},
     "output_type": "display_data"
    },
    {
     "data": {
      "image/png": "[encoded data removed]",
      "text/plain": [
       "<matplotlib.figure.Figure at 0x11b739d10>"
      ]
     },
     "metadata": {},
     "output_type": "display_data"
    }
   ],
   "source": [
    "\n",
    "#histgram \n",
    "%matplotlib inline  \n",
    "bin_value = np.arange(start = -50, stop = 51, step =10)  #it is like seq in R or xrange\n",
    "\n",
    "arr_delay = pd.Series(np.random.uniform(-50,50, size=1000))\n",
    "#arr_delay\n",
    "arr_delay.hist(bins= bin_value, figsize=[3,3], range=(-50,50))\n",
    "plt.title('Aha Here')\n",
    "plt.xlabel('X axis')\n",
    "plt.ylabel('Y axis')\n",
    "#plt.show()\n",
    "\n",
    "\n",
    "#box plots\n",
    "df.plot(kind='box', figsize=[3,3])\n",
    "\n",
    "#bar plot, one may use series.plot or df.plot \n",
    "df.plot(kind='barh', stacked= True,  colormap = 'autumn', figsize=[3,3]) #kind=: ‘line’, ‘bar’, ‘barh’, ‘hist’, ‘box’, ‘area’, ‘scatter‘\n",
    "\n",
    "\n",
    "\n"
   ]
  },
  {
   "cell_type": "code",
   "execution_count": 157,
   "metadata": {
    "collapsed": false
   },
   "outputs": [
    {
     "data": {
      "text/plain": [
       "<matplotlib.collections.PathCollection at 0x120a68110>"
      ]
     },
     "execution_count": 157,
     "metadata": {},
     "output_type": "execute_result"
    },
    {
     "data": {
      "image/png": "[encoded data removed]",
      "text/plain": [
       "<matplotlib.figure.Figure at 0x11eb578d0>"
      ]
     },
     "metadata": {},
     "output_type": "display_data"
    }
   ],
   "source": [
    "# scatter-plot points\n",
    "x = np.random.normal(size=500)\n",
    "y = np.random.normal(size=500)\n",
    "plt.scatter(x, y)  #generate a scatter plot"
   ]
  },
  {
   "cell_type": "code",
   "execution_count": 176,
   "metadata": {
    "collapsed": false
   },
   "outputs": [
    {
     "name": "stdout",
     "output_type": "stream",
     "text": [
      "(150, 4)\n",
      "(150,)\n"
     ]
    },
    {
     "data": {
      "text/plain": [
       "<matplotlib.text.Text at 0x12387e950>"
      ]
     },
     "execution_count": 176,
     "metadata": {},
     "output_type": "execute_result"
    },
    {
     "data": {
      "image/png": "[encoded data removed]",
      "text/plain": [
       "<matplotlib.figure.Figure at 0x122e8cf10>"
      ]
     },
     "metadata": {},
     "output_type": "display_data"
    }
   ],
   "source": [
    "from sklearn import datasets\n",
    "digits = datasets.load_digits()\n",
    "digits.data\n",
    "digits.target\n",
    "\n",
    "iris = datasets.load_iris()\n",
    "\n",
    "print iris.data.shape\n",
    "print iris.target.shape\n",
    "x_index = 2\n",
    "y_index = 0\n",
    "\n",
    "# this formatter will label the colorbar with the correct target names\n",
    "formatter = plt.FuncFormatter(lambda i, *args: iris.target_names[int(i)])\n",
    "\n",
    "plt.scatter(iris.data[:, x_index], iris.data[:, y_index], c=iris.target) # c is color, x_index \n",
    "plt.colorbar(ticks=[0, 1, 2], format=formatter)\n",
    "plt.xlabel(iris.feature_names[x_index])\n",
    "plt.ylabel(iris.feature_names[y_index])"
   ]
  },
  {
   "cell_type": "code",
   "execution_count": 7,
   "metadata": {
    "collapsed": false
   },
   "outputs": [
    {
     "name": "stdout",
     "output_type": "stream",
     "text": [
      "hello 100.00\n"
     ]
    }
   ],
   "source": [
    "print 'hello {0:.2f}'.format(100)"
   ]
  },
  {
   "cell_type": "markdown",
   "metadata": {},
   "source": [
    "# apply"
   ]
  },
  {
   "cell_type": "code",
   "execution_count": null,
   "metadata": {
    "collapsed": true
   },
   "outputs": [],
   "source": [
    "\n",
    "def filter_tld(domain):\n",
    "    if '.org' in domain:\n",
    "        return 'organization'\n",
    "    elif '.com' in domain:\n",
    "        return 'company'\n",
    "    else:\n",
    "        return 'other'\n",
    "\n",
    "data['tld'] = data['referrer_domain'].apply(filter_tld)\n",
    "#recode variables in sub domains; apply a function to each record of ['referrer_domain']\n",
    "\n",
    "      "
   ]
  },
  {
   "cell_type": "markdown",
   "metadata": {},
   "source": [
    "# sklearn\n",
    "* Data in scikit-learn, with very few exceptions, is assumed to be stored as a two-dimensional array, of size [n_samples, n_features].\n",
    "* Machine Learning (ML) is about building programs with tunable parameters (typically an array of floating point values) that are adjusted automatically so as to improve their behavior by adapting to previously seen data.\n"
   ]
  },
  {
   "cell_type": "code",
   "execution_count": 169,
   "metadata": {
    "collapsed": false
   },
   "outputs": [
    {
     "data": {
      "text/plain": [
       "array([ 5.1,  4.9,  4.7,  4.6,  5. ,  5.4,  4.6,  5. ,  4.4,  4.9,  5.4,\n",
       "        4.8,  4.8,  4.3,  5.8,  5.7,  5.4,  5.1,  5.7,  5.1,  5.4,  5.1,\n",
       "        4.6,  5.1,  4.8,  5. ,  5. ,  5.2,  5.2,  4.7,  4.8,  5.4,  5.2,\n",
       "        5.5,  4.9,  5. ,  5.5,  4.9,  4.4,  5.1,  5. ,  4.5,  4.4,  5. ,\n",
       "        5.1,  4.8,  5.1,  4.6,  5.3,  5. ,  7. ,  6.4,  6.9,  5.5,  6.5,\n",
       "        5.7,  6.3,  4.9,  6.6,  5.2,  5. ,  5.9,  6. ,  6.1,  5.6,  6.7,\n",
       "        5.6,  5.8,  6.2,  5.6,  5.9,  6.1,  6.3,  6.1,  6.4,  6.6,  6.8,\n",
       "        6.7,  6. ,  5.7,  5.5,  5.5,  5.8,  6. ,  5.4,  6. ,  6.7,  6.3,\n",
       "        5.6,  5.5,  5.5,  6.1,  5.8,  5. ,  5.6,  5.7,  5.7,  6.2,  5.1,\n",
       "        5.7,  6.3,  5.8,  7.1,  6.3,  6.5,  7.6,  4.9,  7.3,  6.7,  7.2,\n",
       "        6.5,  6.4,  6.8,  5.7,  5.8,  6.4,  6.5,  7.7,  7.7,  6. ,  6.9,\n",
       "        5.6,  7.7,  6.3,  6.7,  7.2,  6.2,  6.1,  6.4,  7.2,  7.4,  7.9,\n",
       "        6.4,  6.3,  6.1,  7.7,  6.3,  6.4,  6. ,  6.9,  6.7,  6.9,  5.8,\n",
       "        6.8,  6.7,  6.7,  6.3,  6.5,  6.2,  5.9])"
      ]
     },
     "execution_count": 169,
     "metadata": {},
     "output_type": "execute_result"
    }
   ],
   "source": [
    "from sklearn import datasets\n",
    "digits = datasets.load_digits()\n",
    "digits.data\n",
    "digits.target\n",
    "\n",
    "iris = datasets.load_iris()\n"
   ]
  },
  {
   "cell_type": "code",
   "execution_count": 185,
   "metadata": {
    "collapsed": false
   },
   "outputs": [
    {
     "name": "stdout",
     "output_type": "stream",
     "text": [
      "[[  1.   0.   0.  33.]\n",
      " [  0.   1.   0.  12.]\n",
      " [  0.   0.   1.  18.]]\n",
      "['city=Dubai', 'city=London', 'city=San Fransisco', 'temperature']\n",
      "<type 'numpy.float64'>\n"
     ]
    }
   ],
   "source": [
    "#using the DictVectorizer to encode categorical variables \n",
    "measurements = [\n",
    "    {'city': 'Dubai', 'temperature': 33.},\n",
    "    {'city': 'London', 'temperature': 12.},\n",
    "    {'city': 'San Fransisco', 'temperature': 18.},\n",
    "]\n",
    "from sklearn.feature_extraction import DictVectorizer\n",
    "\n",
    "vec = DictVectorizer()\n",
    "print vec.fit_transform(measurements).toarray()  # it transform the city into three variables, each is a dummy one \n",
    "print vec.get_feature_names()\n",
    "print vec.dtype"
   ]
  },
  {
   "cell_type": "code",
   "execution_count": 65,
   "metadata": {
    "collapsed": false
   },
   "outputs": [
    {
     "data": {
      "text/plain": [
       "cat_cat    object\n",
       "dtype: object"
      ]
     },
     "execution_count": 65,
     "metadata": {},
     "output_type": "execute_result"
    }
   ],
   "source": [
    "# SOME DATA MANIPULATION BEFORE \n",
    "df.dtypes[df.dtypes.map(lambda x: x =='object')]  #find the variables in df which has the type as object \n"
   ]
  },
  {
   "cell_type": "code",
   "execution_count": 66,
   "metadata": {
    "collapsed": true
   },
   "outputs": [],
   "source": [
    "# divide the sample into training and test"
   ]
  },
  {
   "cell_type": "code",
   "execution_count": null,
   "metadata": {
    "collapsed": true
   },
   "outputs": [],
   "source": [
    "from sklearn import cross_validation\n",
    "X = df[varlist]\n",
    "y = df.y\n",
    "X_train, X_test,y_train, y_test = cross_validation.train_test_split(X, y, test_size = 0.6, random_state = 1)"
   ]
  },
  {
   "cell_type": "markdown",
   "metadata": {},
   "source": [
    "# Every algorithm is exposed in scikit-learn via an ''Estimator'' object. For instance a linear regression is:\n"
   ]
  },
  {
   "cell_type": "code",
   "execution_count": 194,
   "metadata": {
    "collapsed": false
   },
   "outputs": [
    {
     "name": "stdout",
     "output_type": "stream",
     "text": [
      "True LinearRegression(copy_X=True, fit_intercept=True, n_jobs=1, normalize=True)\n"
     ]
    },
    {
     "data": {
      "text/plain": [
       "array([ 0.2])"
      ]
     },
     "execution_count": 194,
     "metadata": {},
     "output_type": "execute_result"
    },
    {
     "data": {
      "image/png": "[encoded data removed]",
      "text/plain": [
       "<matplotlib.figure.Figure at 0x124ae3510>"
      ]
     },
     "metadata": {},
     "output_type": "display_data"
    }
   ],
   "source": [
    "#linear model \n",
    "from sklearn.linear_model import LinearRegression\n",
    "\n",
    "#step1: create an obj\n",
    "model = LinearRegression(normalize=True)\n",
    "print model.normalize, model\n",
    "\n",
    "x = np.array([0, 5, 10])\n",
    "y = np.array([0, 1, 2])\n",
    "_ = plt.plot(x, y, marker='o')\n",
    "X = x[:, np.newaxis] # The input data for sklearn is 2D: (samples == 3 x features == 1)\n",
    "X\n",
    "\n",
    "#step2: fit X,y\n",
    "model.fit(X, y)\n",
    "\n",
    "#take a look at the coefficeint, coef_\n",
    "model.coef_\n",
    "\n"
   ]
  },
  {
   "cell_type": "markdown",
   "metadata": {},
   "source": [
    "# DATE TIME"
   ]
  },
  {
   "cell_type": "code",
   "execution_count": null,
   "metadata": {
    "collapsed": true
   },
   "outputs": [],
   "source": []
  },
  {
   "cell_type": "code",
   "execution_count": 1,
   "metadata": {
    "collapsed": true
   },
   "outputs": [],
   "source": [
    "import datetime as dt\n",
    "import time as tm"
   ]
  },
  {
   "cell_type": "code",
   "execution_count": 2,
   "metadata": {
    "collapsed": false
   },
   "outputs": [
    {
     "data": {
      "text/plain": [
       "1477804263.48392"
      ]
     },
     "execution_count": 2,
     "metadata": {},
     "output_type": "execute_result"
    }
   ],
   "source": [
    "tm.time()"
   ]
  },
  {
   "cell_type": "code",
   "execution_count": 7,
   "metadata": {
    "collapsed": false
   },
   "outputs": [
    {
     "data": {
      "text/plain": [
       "datetime.datetime(2016, 10, 29, 22, 13, 5, 739092)"
      ]
     },
     "execution_count": 7,
     "metadata": {},
     "output_type": "execute_result"
    }
   ],
   "source": [
    "tmnow = dt.datetime.fromtimestamp(tm.time())\n",
    "tmnow"
   ]
  },
  {
   "cell_type": "code",
   "execution_count": 8,
   "metadata": {
    "collapsed": false
   },
   "outputs": [
    {
     "data": {
      "text/plain": [
       "(2016, 10, 29, 22, 13, 5)"
      ]
     },
     "execution_count": 8,
     "metadata": {},
     "output_type": "execute_result"
    }
   ],
   "source": [
    "tmnow.year, tmnow.month, tmnow.day, tmnow.hour, tmnow.minute, tmnow.segn yhgbv cond"
   ]
  },
  {
   "cell_type": "code",
   "execution_count": 10,
   "metadata": {
    "collapsed": false
   },
   "outputs": [],
   "source": [
    "delta = dt.timedelta(days = 100)"
   ]
  },
  {
   "cell_type": "code",
   "execution_count": 11,
   "metadata": {
    "collapsed": false
   },
   "outputs": [
    {
     "data": {
      "text/plain": [
       "datetime.datetime(2017, 2, 6, 22, 13, 5, 739092)"
      ]
     },
     "execution_count": 11,
     "metadata": {},
     "output_type": "execute_result"
    }
   ],
   "source": [
    "#calculate the date in 100 days \n",
    "tmnow + delta"
   ]
  },
  {
   "cell_type": "code",
   "execution_count": 12,
   "metadata": {
    "collapsed": true
   },
   "outputs": [],
   "source": [
    "today = dt.date.today()  # get today's date "
   ]
  },
  {
   "cell_type": "code",
   "execution_count": 13,
   "metadata": {
    "collapsed": false
   },
   "outputs": [
    {
     "data": {
      "text/plain": [
       "datetime.date(2016, 7, 21)"
      ]
     },
     "execution_count": 13,
     "metadata": {},
     "output_type": "execute_result"
    }
   ],
   "source": [
    "today - delta  # get the date 100 days earlier. "
   ]
  },
  {
   "cell_type": "markdown",
   "metadata": {},
   "source": [
    "#pandas"
   ]
  },
  {
   "cell_type": "code",
   "execution_count": 20,
   "metadata": {
    "collapsed": true
   },
   "outputs": [],
   "source": [
    "import pandas as pd\n",
    "import numpy as np"
   ]
  },
  {
   "cell_type": "code",
   "execution_count": 26,
   "metadata": {
    "collapsed": false
   },
   "outputs": [
    {
     "name": "stdout",
     "output_type": "stream",
     "text": [
      "0    227\n",
      "1    541\n",
      "2    323\n",
      "3    566\n",
      "4    784\n",
      "dtype: int64\n",
      "0    229\n",
      "1    543\n",
      "2    325\n",
      "3    568\n",
      "4    786\n",
      "dtype: int64\n"
     ]
    }
   ],
   "source": [
    "s = pd.Series(np.random.randint(0,1000,10000))\n",
    "\n",
    "# this is faster \n",
    "s+=2 #adds two to each item in s using broadcasting\n",
    "print s.head()\n",
    "\n",
    "# this is very slow \n",
    "for label, value in s.iteritems():  # like index, value in enumeriate(list):\n",
    "    s.set_value(label, value+2)  # add 2 for each value \n",
    "print s.head()\n"
   ]
  },
  {
   "cell_type": "code",
   "execution_count": 25,
   "metadata": {
    "collapsed": false
   },
   "outputs": [
    {
     "name": "stdout",
     "output_type": "stream",
     "text": [
      "100 loops, best of 3: 8.9 µs per loop\n"
     ]
    }
   ],
   "source": [
    "%%timeit -n 100\n",
    "np.sum([1,2,3])"
   ]
  },
  {
   "cell_type": "code",
   "execution_count": 34,
   "metadata": {
    "collapsed": false
   },
   "outputs": [
    {
     "name": "stdout",
     "output_type": "stream",
     "text": [
      "/Users/weizeng/python programs\n",
      "Chapter 7 Data Wrangling.ipynb      Untitled1.ipynb\n",
      "Cheatsheet-sklearn and others.ipynb Untitled2.ipynb\n",
      "Pandas and Numpy.ipynb              cheatsheet-python.py\n",
      "Python Twitter Scrape.R             for test.ipynb\n",
      "Python for DS.ipynb                 python Youtube.ipynb\n",
      "Python programs.ipynb               regular expression.ipynb\n",
      "Untitled.ipynb                      sklearn_plots.ipynb\n"
     ]
    }
   ],
   "source": [
    "!pwd  # you can put shell command here \n",
    "!ls \n",
    "#!cat olympics.csv"
   ]
  },
  {
   "cell_type": "markdown",
   "metadata": {},
   "source": [
    "# Boolean Masking "
   ]
  },
  {
   "cell_type": "code",
   "execution_count": null,
   "metadata": {
    "collapsed": true
   },
   "outputs": [],
   "source": []
  },
  {
   "cell_type": "markdown",
   "metadata": {},
   "source": [
    "# Reindex "
   ]
  },
  {
   "cell_type": "code",
   "execution_count": 40,
   "metadata": {
    "collapsed": false
   },
   "outputs": [
    {
     "name": "stdout",
     "output_type": "stream",
     "text": [
      "MultiIndex(levels=[[u'Store 1', u'Store 2'], [u'Chris', u'Kevyn', u'Vinod']],\n",
      "           labels=[[0, 0, 1], [0, 1, 2]],\n",
      "           names=[u'Location', u'Name'])\n"
     ]
    }
   ],
   "source": [
    "purchase_1 = pd.Series({'Name': 'Chris',\n",
    "                        'Item Purchased': 'Dog Food',\n",
    "                        'Cost': 22.50})\n",
    "purchase_2 = pd.Series({'Name': 'Kevyn',\n",
    "                        'Item Purchased': 'Kitty Litter',\n",
    "                        'Cost': 2.50})\n",
    "purchase_3 = pd.Series({'Name': 'Vinod',\n",
    "                        'Item Purchased': 'Bird Seed',\n",
    "                        'Cost': 5.00})\n",
    "# combine three series into one df with index as Store1, Store 2 and etc. \n",
    "df = pd.DataFrame([purchase_1, purchase_2, purchase_3], index=['Store 1', 'Store 1', 'Store 2'])\n",
    "\n",
    "#rest the index as df.index and Name\n",
    "df = df.set_index([df.index, 'Name'])\n",
    "\n",
    "#rename the index as ['Location', 'Name']\n",
    "df.index.names = ['Location', 'Name']\n",
    "print df.index\n",
    "df = df.append(pd.Series(data={'Cost': 3.00, 'Item Purchased': 'Kitty Food'}, name=('Store 2', 'Kevyn')))\n",
    "#df"
   ]
  },
  {
   "cell_type": "code",
   "execution_count": 57,
   "metadata": {
    "collapsed": false
   },
   "outputs": [
    {
     "data": {
      "text/html": [
       "<div>\n",
       "<table border=\"1\" class=\"dataframe\">\n",
       "  <thead>\n",
       "    <tr style=\"text-align: right;\">\n",
       "      <th></th>\n",
       "      <th>Location</th>\n",
       "      <th>Name</th>\n",
       "      <th>Cost</th>\n",
       "      <th>Item Purchased</th>\n",
       "    </tr>\n",
       "  </thead>\n",
       "  <tbody>\n",
       "    <tr>\n",
       "      <th>0</th>\n",
       "      <td>Store 1</td>\n",
       "      <td>Chris</td>\n",
       "      <td>22.5</td>\n",
       "      <td>Dog Food</td>\n",
       "    </tr>\n",
       "    <tr>\n",
       "      <th>1</th>\n",
       "      <td>Store 1</td>\n",
       "      <td>Kevyn</td>\n",
       "      <td>2.5</td>\n",
       "      <td>Kitty Litter</td>\n",
       "    </tr>\n",
       "    <tr>\n",
       "      <th>2</th>\n",
       "      <td>Store 2</td>\n",
       "      <td>Vinod</td>\n",
       "      <td>5.0</td>\n",
       "      <td>Bird Seed</td>\n",
       "    </tr>\n",
       "    <tr>\n",
       "      <th>3</th>\n",
       "      <td>Store 2</td>\n",
       "      <td>Kevyn</td>\n",
       "      <td>3.0</td>\n",
       "      <td>Kitty Food</td>\n",
       "    </tr>\n",
       "  </tbody>\n",
       "</table>\n",
       "</div>"
      ],
      "text/plain": [
       "  Location   Name  Cost Item Purchased\n",
       "0  Store 1  Chris  22.5       Dog Food\n",
       "1  Store 1  Kevyn   2.5   Kitty Litter\n",
       "2  Store 2  Vinod   5.0      Bird Seed\n",
       "3  Store 2  Kevyn   3.0     Kitty Food"
      ]
     },
     "execution_count": 57,
     "metadata": {},
     "output_type": "execute_result"
    }
   ],
   "source": [
    "test = df.reset_index() # now the index become 0 - 3 the original index variables now become data variables \n",
    "test"
   ]
  },
  {
   "cell_type": "code",
   "execution_count": 59,
   "metadata": {
    "collapsed": false
   },
   "outputs": [
    {
     "data": {
      "text/html": [
       "<div>\n",
       "<table border=\"1\" class=\"dataframe\">\n",
       "  <thead>\n",
       "    <tr style=\"text-align: right;\">\n",
       "      <th></th>\n",
       "      <th>Name</th>\n",
       "      <th>Cost</th>\n",
       "      <th>Item Purchased</th>\n",
       "    </tr>\n",
       "    <tr>\n",
       "      <th>Location</th>\n",
       "      <th></th>\n",
       "      <th></th>\n",
       "      <th></th>\n",
       "    </tr>\n",
       "  </thead>\n",
       "  <tbody>\n",
       "    <tr>\n",
       "      <th>Store 1</th>\n",
       "      <td>Chris</td>\n",
       "      <td>22.5</td>\n",
       "      <td>Dog Food</td>\n",
       "    </tr>\n",
       "    <tr>\n",
       "      <th>Store 1</th>\n",
       "      <td>Kevyn</td>\n",
       "      <td>2.5</td>\n",
       "      <td>Kitty Litter</td>\n",
       "    </tr>\n",
       "    <tr>\n",
       "      <th>Store 2</th>\n",
       "      <td>Vinod</td>\n",
       "      <td>5.0</td>\n",
       "      <td>Bird Seed</td>\n",
       "    </tr>\n",
       "    <tr>\n",
       "      <th>Store 2</th>\n",
       "      <td>Kevyn</td>\n",
       "      <td>3.0</td>\n",
       "      <td>Kitty Food</td>\n",
       "    </tr>\n",
       "  </tbody>\n",
       "</table>\n",
       "</div>"
      ],
      "text/plain": [
       "           Name  Cost Item Purchased\n",
       "Location                            \n",
       "Store 1   Chris  22.5       Dog Food\n",
       "Store 1   Kevyn   2.5   Kitty Litter\n",
       "Store 2   Vinod   5.0      Bird Seed\n",
       "Store 2   Kevyn   3.0     Kitty Food"
      ]
     },
     "execution_count": 59,
     "metadata": {},
     "output_type": "execute_result"
    }
   ],
   "source": [
    "#chain indexing\n",
    "test.index = test['Location']\n",
    "test.loc['Store 1']['Cost'] \n",
    "# chain indexing; generally bad because panda could return a copy or view of the df depending on numpy\n",
    "test.iloc[:, 1:]"
   ]
  },
  {
   "cell_type": "code",
   "execution_count": 69,
   "metadata": {
    "collapsed": false
   },
   "outputs": [],
   "source": [
    "#use method training - similar as the R piping \n",
    "newdf = (test.where(test['Cost'] <= 5) # select data like filter \n",
    "        .dropna() # drop na \n",
    "        .set_index(['Name']) # reset index as Name ; it also moves the original index to a column \n",
    "        .rename(columns={'Item Purchased': 'ItemPurchased'})) # "
   ]
  },
  {
   "cell_type": "code",
   "execution_count": 71,
   "metadata": {
    "collapsed": false
   },
   "outputs": [
    {
     "data": {
      "text/html": [
       "<div>\n",
       "<table border=\"1\" class=\"dataframe\">\n",
       "  <thead>\n",
       "    <tr style=\"text-align: right;\">\n",
       "      <th></th>\n",
       "      <th>Name</th>\n",
       "      <th>Location</th>\n",
       "      <th>Cost</th>\n",
       "      <th>ItemPurchased</th>\n",
       "    </tr>\n",
       "  </thead>\n",
       "  <tbody>\n",
       "    <tr>\n",
       "      <th>0</th>\n",
       "      <td>Kevyn</td>\n",
       "      <td>Store 1</td>\n",
       "      <td>2.5</td>\n",
       "      <td>Kitty Litter</td>\n",
       "    </tr>\n",
       "    <tr>\n",
       "      <th>1</th>\n",
       "      <td>Vinod</td>\n",
       "      <td>Store 2</td>\n",
       "      <td>5.0</td>\n",
       "      <td>Bird Seed</td>\n",
       "    </tr>\n",
       "    <tr>\n",
       "      <th>2</th>\n",
       "      <td>Kevyn</td>\n",
       "      <td>Store 2</td>\n",
       "      <td>3.0</td>\n",
       "      <td>Kitty Food</td>\n",
       "    </tr>\n",
       "  </tbody>\n",
       "</table>\n",
       "</div>"
      ],
      "text/plain": [
       "    Name Location  Cost ItemPurchased\n",
       "0  Kevyn  Store 1   2.5  Kitty Litter\n",
       "1  Vinod  Store 2   5.0     Bird Seed\n",
       "2  Kevyn  Store 2   3.0    Kitty Food"
      ]
     },
     "execution_count": 71,
     "metadata": {},
     "output_type": "execute_result"
    }
   ],
   "source": [
    "newdf.index\n",
    "newdf.reset_index()"
   ]
  },
  {
   "cell_type": "code",
   "execution_count": 82,
   "metadata": {
    "collapsed": false
   },
   "outputs": [
    {
     "name": "stdout",
     "output_type": "stream",
     "text": [
      "Store 1\n",
      "+++++\n",
      "      Location  Cost ItemPurchased\n",
      "Name                              \n",
      "Kevyn  Store 1   2.5  Kitty Litter <class 'pandas.core.frame.DataFrame'>\n",
      "+++++\n",
      "Store 2\n",
      "+++++\n",
      "      Location  Cost ItemPurchased\n",
      "Name                              \n",
      "Vinod  Store 2   5.0     Bird Seed\n",
      "Kevyn  Store 2   3.0    Kitty Food <class 'pandas.core.frame.DataFrame'>\n",
      "+++++\n"
     ]
    }
   ],
   "source": [
    "#groupby -- group the data by Location, index is the groupby index, which is location here; \n",
    "# ls is the data frame after applying the groupby \n",
    "for index, ls in newdf.groupby('Location'):\n",
    "    print index\n",
    "    print \"+++++\"\n",
    "    print ls, type(ls)\n",
    "    print \"+++++\""
   ]
  },
  {
   "cell_type": "code",
   "execution_count": 86,
   "metadata": {
    "collapsed": false
   },
   "outputs": [
    {
     "name": "stdout",
     "output_type": "stream",
     "text": [
      "1\n",
      "++++\n",
      "         Location  Cost ItemPurchased\n",
      "Location                             \n",
      "Store 1   Store 1   2.5  Kitty Litter\n",
      "5\n",
      "++++\n",
      "         Location  Cost ItemPurchased\n",
      "Location                             \n",
      "Store 2   Store 2   5.0     Bird Seed\n",
      "Store 2   Store 2   3.0    Kitty Food\n"
     ]
    }
   ],
   "source": [
    "# use function for groupby tell groupby to use the function to split the data frame \n",
    "# in order to do this, you need to set the column you want to groupby as the index of the dataframe first\n",
    "newdf.index = newdf['Location']\n",
    "def fun(m):\n",
    "    if m[-1]=='1':\n",
    "        return 1\n",
    "    else:\n",
    "        return 5\n",
    "for group, dframe in newdf.groupby(fun):  #light weight hash; \n",
    "    print group\n",
    "    print '++++'\n",
    "    print dframe\n",
    "    \n",
    "#split, apply and combine \n"
   ]
  },
  {
   "cell_type": "code",
   "execution_count": 98,
   "metadata": {
    "collapsed": false
   },
   "outputs": [
    {
     "name": "stdout",
     "output_type": "stream",
     "text": [
      "         Location  Cost ItemPurchased  abc\n",
      "Location                                  \n",
      "Store 1   Store 1   2.5  Kitty Litter    1\n",
      "Store 2   Store 2   5.0     Bird Seed    1\n",
      "Store 2   Store 2   3.0    Kitty Food    1\n",
      "          Cost\n",
      "Location      \n",
      "Store 1    2.5\n",
      "Store 2    4.0\n",
      "          sum  avg\n",
      "Location          \n",
      "Store 1   2.5  2.5\n",
      "Store 2   8.0  4.0\n"
     ]
    }
   ],
   "source": [
    "import numpy as np\n",
    "newdf['abc'] = 1\n",
    "print newdf\n",
    "print newdf.groupby('Location').agg({'Cost':np.average})  # it's like R's dplyr , agg is like aggregate, \n",
    "# use the 'Cost' above ask aggregate by 'Cost \n",
    "#can aggredate produce mulitple statistics?\n",
    "print newdf.groupby('Location')['Cost'].agg({'avg':np.average,'sum':np.sum})"
   ]
  },
  {
   "cell_type": "code",
   "execution_count": 102,
   "metadata": {
    "collapsed": false
   },
   "outputs": [
    {
     "data": {
      "text/html": [
       "<div>\n",
       "<table border=\"1\" class=\"dataframe\">\n",
       "  <thead>\n",
       "    <tr>\n",
       "      <th></th>\n",
       "      <th colspan=\"2\" halign=\"left\">avg</th>\n",
       "    </tr>\n",
       "    <tr>\n",
       "      <th></th>\n",
       "      <th>abc</th>\n",
       "      <th>Cost</th>\n",
       "    </tr>\n",
       "    <tr>\n",
       "      <th>Location</th>\n",
       "      <th></th>\n",
       "      <th></th>\n",
       "    </tr>\n",
       "  </thead>\n",
       "  <tbody>\n",
       "    <tr>\n",
       "      <th>Store 1</th>\n",
       "      <td>1</td>\n",
       "      <td>2.5</td>\n",
       "    </tr>\n",
       "    <tr>\n",
       "      <th>Store 2</th>\n",
       "      <td>1</td>\n",
       "      <td>4.0</td>\n",
       "    </tr>\n",
       "  </tbody>\n",
       "</table>\n",
       "</div>"
      ],
      "text/plain": [
       "         avg     \n",
       "         abc Cost\n",
       "Location         \n",
       "Store 1    1  2.5\n",
       "Store 2    1  4.0"
      ]
     },
     "execution_count": 102,
     "metadata": {},
     "output_type": "execute_result"
    }
   ],
   "source": [
    "(newdf.groupby(level=0)['abc','Cost']  #level = 0 means group by index \n",
    "    .agg({'avg':np.average}))"
   ]
  },
  {
   "cell_type": "code",
   "execution_count": 103,
   "metadata": {
    "collapsed": false
   },
   "outputs": [
    {
     "data": {
      "text/html": [
       "<div>\n",
       "<table border=\"1\" class=\"dataframe\">\n",
       "  <thead>\n",
       "    <tr style=\"text-align: right;\">\n",
       "      <th></th>\n",
       "      <th>abc</th>\n",
       "      <th>Cost</th>\n",
       "    </tr>\n",
       "    <tr>\n",
       "      <th>Location</th>\n",
       "      <th></th>\n",
       "      <th></th>\n",
       "    </tr>\n",
       "  </thead>\n",
       "  <tbody>\n",
       "    <tr>\n",
       "      <th>Store 1</th>\n",
       "      <td>1</td>\n",
       "      <td>2.5</td>\n",
       "    </tr>\n",
       "    <tr>\n",
       "      <th>Store 2</th>\n",
       "      <td>1</td>\n",
       "      <td>8.0</td>\n",
       "    </tr>\n",
       "  </tbody>\n",
       "</table>\n",
       "</div>"
      ],
      "text/plain": [
       "          abc  Cost\n",
       "Location           \n",
       "Store 1     1   2.5\n",
       "Store 2     1   8.0"
      ]
     },
     "execution_count": 103,
     "metadata": {},
     "output_type": "execute_result"
    }
   ],
   "source": [
    "(newdf.groupby(level=0)['abc','Cost']  #level = 0 means group by index \n",
    "    .agg({'abc':np.average, 'Cost':np.sum}))  #apply average to abc while apply sum to Cost rather than using the both \n",
    "#methods to each "
   ]
  },
  {
   "cell_type": "code",
   "execution_count": 105,
   "metadata": {
    "collapsed": false
   },
   "outputs": [
    {
     "data": {
      "text/plain": [
       "excellent    A+\n",
       "excellent     A\n",
       "excellent    A-\n",
       "good         B+\n",
       "good          B\n",
       "Name: Grades, dtype: category\n",
       "Categories (11, object): [A, A+, A-, B, ..., C+, C-, D, D+]"
      ]
     },
     "execution_count": 105,
     "metadata": {},
     "output_type": "execute_result"
    }
   ],
   "source": [
    "df = pd.DataFrame(['A+', 'A', 'A-', 'B+', 'B', 'B-', 'C+', 'C', 'C-', 'D+', 'D'],\n",
    "                  index=['excellent', 'excellent', 'excellent', 'good', 'good', 'good', 'ok', 'ok', 'ok', 'poor', 'poor'])\n",
    "df.rename(columns={0: 'Grades'}, inplace=True)\n",
    "df['Grades'].astype('category').head()  #change the type of the Grades from character to 'Category' using astype"
   ]
  },
  {
   "cell_type": "code",
   "execution_count": 108,
   "metadata": {
    "collapsed": false
   },
   "outputs": [
    {
     "data": {
      "text/plain": [
       "excellent    A+\n",
       "excellent     A\n",
       "excellent    A-\n",
       "good         B+\n",
       "good          B\n",
       "Name: Grades, dtype: category\n",
       "Categories (11, object): [D < D+ < C- < C ... B+ < A- < A < A+]"
      ]
     },
     "execution_count": 108,
     "metadata": {},
     "output_type": "execute_result"
    }
   ],
   "source": [
    "df['Grades'].astype('category',  # 注意小写\n",
    "                    ordered = True ,  # change the type to ordinal variable \n",
    "                    categories=['D', 'D+', 'C-', 'C', 'C+', 'B-', 'B', 'B+', 'A-', 'A', 'A+']).head()  #change the type of the Grades from character to 'Category' using astype"
   ]
  },
  {
   "cell_type": "code",
   "execution_count": 109,
   "metadata": {
    "collapsed": false
   },
   "outputs": [
    {
     "data": {
      "text/plain": [
       "excellent    False\n",
       "excellent    False\n",
       "excellent    False\n",
       "good         False\n",
       "good         False\n",
       "good         False\n",
       "ok            True\n",
       "ok           False\n",
       "ok            True\n",
       "poor          True\n",
       "poor          True\n",
       "Name: Grades, dtype: bool"
      ]
     },
     "execution_count": 109,
     "metadata": {},
     "output_type": "execute_result"
    }
   ],
   "source": [
    "df['Grades'] > 'C'  # YOU CAN USE IT FOR BOOLEAN MASKING "
   ]
  },
  {
   "cell_type": "code",
   "execution_count": 110,
   "metadata": {
    "collapsed": false
   },
   "outputs": [
    {
     "data": {
      "text/plain": [
       "0      Small\n",
       "1     Medium\n",
       "2      Small\n",
       "3      Large\n",
       "4      Small\n",
       "5      Large\n",
       "6     Medium\n",
       "7     Medium\n",
       "8      Small\n",
       "9      Small\n",
       "10    Medium\n",
       "11    Medium\n",
       "12    Medium\n",
       "13     Small\n",
       "dtype: category\n",
       "Categories (3, object): [Small < Medium < Large]"
      ]
     },
     "execution_count": 110,
     "metadata": {},
     "output_type": "execute_result"
    }
   ],
   "source": [
    "s = pd.Series([168, 180, 174, 190, 170, 185, 179, 181, 175, 169, 182, 177, 180, 171])\n",
    "pd.cut(s, 3)\n",
    "# You can also add labels for the sizes [Small < Medium < Large].\n",
    "pd.cut(s, 3, labels=['Small', 'Medium', 'Large']) \n",
    "#binning the data into three categories, using label small, medium and large\n"
   ]
  },
  {
   "cell_type": "code",
   "execution_count": 111,
   "metadata": {
    "collapsed": true
   },
   "outputs": [],
   "source": [
    "#pivot table\n",
    "Bikes.pivot_table(values = ['Rating','Price'],  # if you need to summarize mulitple variables \n",
    "            columns = 'Manufacturer', \n",
    "            index = 'Bike Type',\n",
    "            aggfunc=[np.mean,np.sum] ,\n",
    "            margins = True )"
   ]
  },
  {
   "cell_type": "code",
   "execution_count": null,
   "metadata": {
    "collapsed": true
   },
   "outputs": [],
   "source": [
    "df.pivot_table(values='(kW)', index='YEAR', columns='Make', aggfunc=np.mean)  \n",
    "# value for pivot is '(kw)', index is Year, columns is Make,, aggfunc is np.mean"
   ]
  },
  {
   "cell_type": "code",
   "execution_count": 112,
   "metadata": {
    "collapsed": false
   },
   "outputs": [
    {
     "data": {
      "text/plain": [
       "Timestamp('2016-09-01 10:05:00')"
      ]
     },
     "execution_count": 112,
     "metadata": {},
     "output_type": "execute_result"
    }
   ],
   "source": [
    "pd.Timestamp('9/1/2016 10:05AM')"
   ]
  },
  {
   "cell_type": "code",
   "execution_count": 116,
   "metadata": {
    "collapsed": false
   },
   "outputs": [
    {
     "data": {
      "text/plain": [
       "0.501"
      ]
     },
     "execution_count": 116,
     "metadata": {},
     "output_type": "execute_result"
    }
   ],
   "source": [
    "np.random.binomial(1000, 0.5)/float(1000)"
   ]
  },
  {
   "cell_type": "code",
   "execution_count": 125,
   "metadata": {
    "collapsed": false
   },
   "outputs": [
    {
     "name": "stdout",
     "output_type": "stream",
     "text": [
      "0.0195\n"
     ]
    }
   ],
   "source": [
    "m = np.random.binomial(20, 0.5, 10000)\n",
    "len(m[m>=15])/float(10000)\n",
    "\n",
    "x = np.random.binomial(20, .5, 10000)\n",
    "print((x>=15).mean())"
   ]
  },
  {
   "cell_type": "code",
   "execution_count": 133,
   "metadata": {
    "collapsed": false
   },
   "outputs": [
    {
     "name": "stdout",
     "output_type": "stream",
     "text": [
      "2464 tornadoes back to back in 2739 years\n"
     ]
    }
   ],
   "source": [
    "chance_of_tornado = 0.05\n",
    "\n",
    "tornado_events = np.random.binomial(1, chance_of_tornado, 1000000) #simulate the number of events 1000000 \n",
    "    \n",
    "two_days_in_a_row = 0 #initial the two_days_in_a_row \n",
    "for j in range(1,len(tornado_events)-1):\n",
    "    if tornado_events[j]==1 and tornado_events[j-1]==1:\n",
    "        two_days_in_a_row+=1\n",
    "\n",
    "print('{} tornadoes back to back in {} years'.format(two_days_in_a_row, 1000000/365))"
   ]
  },
  {
   "cell_type": "code",
   "execution_count": 135,
   "metadata": {
    "collapsed": false
   },
   "outputs": [
    {
     "name": "stdout",
     "output_type": "stream",
     "text": [
      "0.0025\n",
      "0.002464\n"
     ]
    }
   ],
   "source": [
    "print chance_of_tornado**2\n",
    "print 2464/float(1000000)"
   ]
  },
  {
   "cell_type": "code",
   "execution_count": null,
   "metadata": {
    "collapsed": true
   },
   "outputs": [],
   "source": []
  }
 ],
 "metadata": {
  "kernelspec": {
   "display_name": "Python 2",
   "language": "python",
   "name": "python2"
  },
  "language_info": {
   "codemirror_mode": {
    "name": "ipython",
    "version": 2
   },
   "file_extension": ".py",
   "mimetype": "text/x-python",
   "name": "python",
   "nbconvert_exporter": "python",
   "pygments_lexer": "ipython2",
   "version": "2.7.11"
  }
 },
 "nbformat": 4,
 "nbformat_minor": 0
}
