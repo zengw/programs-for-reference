{
 "cells": [
  {
   "cell_type": "code",
   "execution_count": 34,
   "metadata": {
    "collapsed": false
   },
   "outputs": [],
   "source": [
    "import pandas as pd\n",
    "import numpy as np\n",
    "import matplotlib.pyplot as plt\n",
    "%matplotlib inline\n",
    "import os\n",
    "os.chdir(\"/Users/weizeng/Documents/UBER Takehome\")"
   ]
  },
  {
   "cell_type": "code",
   "execution_count": 35,
   "metadata": {
    "collapsed": false
   },
   "outputs": [
    {
     "data": {
      "text/plain": [
       "['.DS_Store',\n",
       " '.ipynb_checkpoints',\n",
       " 'ds_challenge_v2_1_data (1) (2).csv',\n",
       " 'DSInterviewChallengeV_2_4 (3).pdf',\n",
       " 'UBER Takehome.ipynb',\n",
       " 'Untitled.ipynb']"
      ]
     },
     "execution_count": 35,
     "metadata": {},
     "output_type": "execute_result"
    }
   ],
   "source": [
    "os.listdir(\".\")"
   ]
  },
  {
   "cell_type": "code",
   "execution_count": 43,
   "metadata": {
    "collapsed": true
   },
   "outputs": [],
   "source": [
    "df = pd.read_csv(\"./ds_challenge_v2_1_data (1) (2).csv\")"
   ]
  },
  {
   "cell_type": "code",
   "execution_count": 44,
   "metadata": {
    "collapsed": false,
    "scrolled": true
   },
   "outputs": [
    {
     "name": "stdout",
     "output_type": "stream",
     "text": [
      "                 id  vehicle_year\n",
      "count  54681.000000  13223.000000\n",
      "mean   27341.000000   2010.568025\n",
      "std    15785.189372     35.219184\n",
      "min        1.000000      0.000000\n",
      "25%    13671.000000   2008.000000\n",
      "50%    27341.000000   2013.000000\n",
      "75%    41011.000000   2015.000000\n",
      "max    54681.000000   2017.000000\n",
      "(54681, 11)\n",
      "Index([u'id', u'city_name', u'signup_os', u'signup_channel', u'signup_date',\n",
      "       u'bgc_date', u'vehicle_added_date', u'vehicle_make', u'vehicle_model',\n",
      "       u'vehicle_year', u'first_completed_date'],\n",
      "      dtype='object')\n"
     ]
    },
    {
     "data": {
      "text/html": [
       "<div>\n",
       "<table border=\"1\" class=\"dataframe\">\n",
       "  <thead>\n",
       "    <tr style=\"text-align: right;\">\n",
       "      <th></th>\n",
       "      <th>id</th>\n",
       "      <th>city_name</th>\n",
       "      <th>signup_os</th>\n",
       "      <th>signup_channel</th>\n",
       "      <th>signup_date</th>\n",
       "      <th>bgc_date</th>\n",
       "      <th>vehicle_added_date</th>\n",
       "      <th>vehicle_make</th>\n",
       "      <th>vehicle_model</th>\n",
       "      <th>vehicle_year</th>\n",
       "      <th>first_completed_date</th>\n",
       "    </tr>\n",
       "  </thead>\n",
       "  <tbody>\n",
       "    <tr>\n",
       "      <th>0</th>\n",
       "      <td>1</td>\n",
       "      <td>Strark</td>\n",
       "      <td>ios web</td>\n",
       "      <td>Paid</td>\n",
       "      <td>1/2/16</td>\n",
       "      <td>NaN</td>\n",
       "      <td>NaN</td>\n",
       "      <td>NaN</td>\n",
       "      <td>NaN</td>\n",
       "      <td>NaN</td>\n",
       "      <td>NaN</td>\n",
       "    </tr>\n",
       "    <tr>\n",
       "      <th>1</th>\n",
       "      <td>2</td>\n",
       "      <td>Strark</td>\n",
       "      <td>windows</td>\n",
       "      <td>Paid</td>\n",
       "      <td>1/21/16</td>\n",
       "      <td>NaN</td>\n",
       "      <td>NaN</td>\n",
       "      <td>NaN</td>\n",
       "      <td>NaN</td>\n",
       "      <td>NaN</td>\n",
       "      <td>NaN</td>\n",
       "    </tr>\n",
       "    <tr>\n",
       "      <th>2</th>\n",
       "      <td>3</td>\n",
       "      <td>Wrouver</td>\n",
       "      <td>windows</td>\n",
       "      <td>Organic</td>\n",
       "      <td>1/11/16</td>\n",
       "      <td>1/11/16</td>\n",
       "      <td>NaN</td>\n",
       "      <td>NaN</td>\n",
       "      <td>NaN</td>\n",
       "      <td>NaN</td>\n",
       "      <td>NaN</td>\n",
       "    </tr>\n",
       "    <tr>\n",
       "      <th>3</th>\n",
       "      <td>4</td>\n",
       "      <td>Berton</td>\n",
       "      <td>android web</td>\n",
       "      <td>Referral</td>\n",
       "      <td>1/29/16</td>\n",
       "      <td>2/3/16</td>\n",
       "      <td>2/3/16</td>\n",
       "      <td>Toyota</td>\n",
       "      <td>Corolla</td>\n",
       "      <td>2016.0</td>\n",
       "      <td>2/3/16</td>\n",
       "    </tr>\n",
       "    <tr>\n",
       "      <th>4</th>\n",
       "      <td>5</td>\n",
       "      <td>Strark</td>\n",
       "      <td>android web</td>\n",
       "      <td>Referral</td>\n",
       "      <td>1/10/16</td>\n",
       "      <td>1/25/16</td>\n",
       "      <td>1/26/16</td>\n",
       "      <td>Hyundai</td>\n",
       "      <td>Sonata</td>\n",
       "      <td>2016.0</td>\n",
       "      <td>NaN</td>\n",
       "    </tr>\n",
       "    <tr>\n",
       "      <th>5</th>\n",
       "      <td>6</td>\n",
       "      <td>Strark</td>\n",
       "      <td>android web</td>\n",
       "      <td>Referral</td>\n",
       "      <td>1/18/16</td>\n",
       "      <td>1/18/16</td>\n",
       "      <td>1/22/16</td>\n",
       "      <td>Cadillac</td>\n",
       "      <td>DTS</td>\n",
       "      <td>2006.0</td>\n",
       "      <td>NaN</td>\n",
       "    </tr>\n",
       "    <tr>\n",
       "      <th>6</th>\n",
       "      <td>7</td>\n",
       "      <td>Strark</td>\n",
       "      <td>ios web</td>\n",
       "      <td>Paid</td>\n",
       "      <td>1/14/16</td>\n",
       "      <td>1/16/16</td>\n",
       "      <td>1/21/16</td>\n",
       "      <td>Toyota</td>\n",
       "      <td>Prius V</td>\n",
       "      <td>2014.0</td>\n",
       "      <td>1/23/16</td>\n",
       "    </tr>\n",
       "    <tr>\n",
       "      <th>7</th>\n",
       "      <td>8</td>\n",
       "      <td>Strark</td>\n",
       "      <td>ios web</td>\n",
       "      <td>Referral</td>\n",
       "      <td>1/26/16</td>\n",
       "      <td>2/5/16</td>\n",
       "      <td>NaN</td>\n",
       "      <td>NaN</td>\n",
       "      <td>NaN</td>\n",
       "      <td>NaN</td>\n",
       "      <td>NaN</td>\n",
       "    </tr>\n",
       "    <tr>\n",
       "      <th>8</th>\n",
       "      <td>9</td>\n",
       "      <td>Strark</td>\n",
       "      <td>NaN</td>\n",
       "      <td>Referral</td>\n",
       "      <td>1/5/16</td>\n",
       "      <td>NaN</td>\n",
       "      <td>NaN</td>\n",
       "      <td>NaN</td>\n",
       "      <td>NaN</td>\n",
       "      <td>NaN</td>\n",
       "      <td>NaN</td>\n",
       "    </tr>\n",
       "    <tr>\n",
       "      <th>9</th>\n",
       "      <td>10</td>\n",
       "      <td>Berton</td>\n",
       "      <td>ios web</td>\n",
       "      <td>Paid</td>\n",
       "      <td>1/25/16</td>\n",
       "      <td>NaN</td>\n",
       "      <td>NaN</td>\n",
       "      <td>NaN</td>\n",
       "      <td>NaN</td>\n",
       "      <td>NaN</td>\n",
       "      <td>NaN</td>\n",
       "    </tr>\n",
       "  </tbody>\n",
       "</table>\n",
       "</div>"
      ],
      "text/plain": [
       "   id city_name    signup_os signup_channel signup_date bgc_date  \\\n",
       "0   1    Strark      ios web           Paid      1/2/16      NaN   \n",
       "1   2    Strark      windows           Paid     1/21/16      NaN   \n",
       "2   3   Wrouver      windows        Organic     1/11/16  1/11/16   \n",
       "3   4    Berton  android web       Referral     1/29/16   2/3/16   \n",
       "4   5    Strark  android web       Referral     1/10/16  1/25/16   \n",
       "5   6    Strark  android web       Referral     1/18/16  1/18/16   \n",
       "6   7    Strark      ios web           Paid     1/14/16  1/16/16   \n",
       "7   8    Strark      ios web       Referral     1/26/16   2/5/16   \n",
       "8   9    Strark          NaN       Referral      1/5/16      NaN   \n",
       "9  10    Berton      ios web           Paid     1/25/16      NaN   \n",
       "\n",
       "  vehicle_added_date vehicle_make vehicle_model  vehicle_year  \\\n",
       "0                NaN          NaN           NaN           NaN   \n",
       "1                NaN          NaN           NaN           NaN   \n",
       "2                NaN          NaN           NaN           NaN   \n",
       "3             2/3/16       Toyota       Corolla        2016.0   \n",
       "4            1/26/16      Hyundai        Sonata        2016.0   \n",
       "5            1/22/16     Cadillac           DTS        2006.0   \n",
       "6            1/21/16       Toyota       Prius V        2014.0   \n",
       "7                NaN          NaN           NaN           NaN   \n",
       "8                NaN          NaN           NaN           NaN   \n",
       "9                NaN          NaN           NaN           NaN   \n",
       "\n",
       "  first_completed_date  \n",
       "0                  NaN  \n",
       "1                  NaN  \n",
       "2                  NaN  \n",
       "3               2/3/16  \n",
       "4                  NaN  \n",
       "5                  NaN  \n",
       "6              1/23/16  \n",
       "7                  NaN  \n",
       "8                  NaN  \n",
       "9                  NaN  "
      ]
     },
     "execution_count": 44,
     "metadata": {},
     "output_type": "execute_result"
    }
   ],
   "source": [
    "print df.describe()\n",
    "print df.shape\n",
    "print df.columns\n",
    "df.head(10)"
   ]
  },
  {
   "cell_type": "markdown",
   "metadata": {},
   "source": [
    "* this part will process the time series related variables\n",
    "* Create the day of week for sign up date \n",
    "* Create the date differences between the signup and consent to background check"
   ]
  },
  {
   "cell_type": "code",
   "execution_count": 45,
   "metadata": {
    "collapsed": false
   },
   "outputs": [],
   "source": [
    " def dateconvert (var):\n",
    "    \"\"\"\n",
    "    This function convert the text date to pandas date time\n",
    "    \"\"\"\n",
    "    df[var] = pd.to_datetime(df[var], format ='%m/%d/%y')\n",
    "    return  df[var]\n",
    "\n",
    "# loop through all date related variables \n",
    "ls = ['signup_date' , 'bgc_date' , 'vehicle_added_date']\n",
    "\n",
    "for i in ls:\n",
    "    dateconvert(i)\n",
    "\n",
    "# derive day differences between sign up, consent to background check and vehicle added   \n",
    "days = lambda x: np.NaN if pd.isnull(x) else pd.to_timedelta(x).days\n",
    "\n",
    "df['signup_to_bgc'] = (df['bgc_date'] - df['signup_date']).apply(days)\n",
    "df['signup_to_add'] = (df['vehicle_added_date'] - df['signup_date']).apply(days)\n",
    "\n",
    "#signup weekday \n",
    "df['signup_wkday'] = df ['signup_date'].apply(lambda x: x.weekday())\n"
   ]
  },
  {
   "cell_type": "markdown",
   "metadata": {},
   "source": [
    "* At least 10 days difference between signup and first trip date\n",
    "* It seems a driver can give consent to background check the same date they sign up and add a vehicle too "
   ]
  },
  {
   "cell_type": "code",
   "execution_count": 61,
   "metadata": {
    "collapsed": false
   },
   "outputs": [
    {
     "name": "stdout",
     "output_type": "stream",
     "text": [
      "sign up to consent to background check: 0.0 69.0\n",
      "signup_date: 2016-01-01 00:00:00 2016-01-30 00:00:00\n",
      "bgc_date: 2016-01-01 00:00:00 2016-03-25 00:00:00\n",
      "vehicle_added_date: 2016-01-01 00:00:00 2016-03-26 00:00:00\n",
      "first_trip_date: 1/10/16 2/9/16\n"
     ]
    }
   ],
   "source": [
    "print \"sign up to consent to background check:\", df['signup_to_bgc'].min(), df['signup_to_bgc'].max()\n",
    "print \"signup_date:\", df['signup_date'].min(), df['signup_date'].max()\n",
    "print \"bgc_date:\", df[df['bgc_date'].notnull()]['bgc_date'].min(), df['bgc_date'].max()\n",
    "print \"vehicle_added_date:\", df[df['vehicle_added_date'].notnull()]['vehicle_added_date'].min(), df['vehicle_added_date'].max()\n",
    "print \"first_trip_date:\", df[df['first_completed_date'].notnull()]['first_completed_date'].min(), df['first_completed_date'].max()"
   ]
  },
  {
   "cell_type": "code",
   "execution_count": 47,
   "metadata": {
    "collapsed": false
   },
   "outputs": [
    {
     "data": {
      "text/plain": [
       "(54680, 14)"
      ]
     },
     "execution_count": 47,
     "metadata": {},
     "output_type": "execute_result"
    }
   ],
   "source": [
    "# additional check to make sure all first trip date is later than sign up date\n",
    "sum(df['signup_to_bgc']<0)\n",
    "sum(df['signup_to_add']<0)\n",
    "df[df['signup_to_add']<0]\n",
    "# one record with sign up later than vehicle add; delete this case \n",
    "df = df[~(df['signup_to_add']<0)]\n",
    "df.shape"
   ]
  },
  {
   "cell_type": "markdown",
   "metadata": {},
   "source": [
    "* the following part will calcuate the proportion of drive out of all signups"
   ]
  },
  {
   "cell_type": "code",
   "execution_count": 48,
   "metadata": {
    "collapsed": false
   },
   "outputs": [
    {
     "name": "stdout",
     "output_type": "stream",
     "text": [
      "Number of cases without sign up date is 0\n",
      "driving rate is 11.2%\n",
      "Vehicle Added Rate is 24.0%\n",
      "Background Check Consent Rate is 60.2%\n"
     ]
    }
   ],
   "source": [
    "#take a look at the DV - first drive or not \n",
    "\n",
    "#all cases have sign up date\n",
    "print 'Number of cases without sign up date is {0}'.format (sum(df['signup_date'].isnull()))\n",
    "\n",
    "#create FirstTripDone \n",
    "df['FirstTripDone'] = df['first_completed_date'].apply(lambda x: 0 if pd.isnull(x) else 1)\n",
    "df['vehicleadd'] = df['vehicle_added_date'].apply(lambda x: 0 if pd.isnull(x) else 1)\n",
    "df['bgcdone'] = df['bgc_date'].apply(lambda x: 0 if pd.isnull(x) else 1)\n",
    "\n",
    "prop_drive = np.mean(df['FirstTripDone'])\n",
    "prop_va = np.mean(df['vehicleadd'])\n",
    "prop_bg = np.mean(df['bgcdone'])\n",
    "\n",
    "print 'driving rate is {0:.1f}%'.format(prop_drive*100)\n",
    "print 'Vehicle Added Rate is {0:.1f}%'.format(prop_va*100)\n",
    "print 'Background Check Consent Rate is {0:.1f}%'.format(prop_bg*100)\n"
   ]
  },
  {
   "cell_type": "markdown",
   "metadata": {},
   "source": [
    "### check missings in the dataframe \n",
    "* signup_os has 6857 missings; will use hotdeck padding to fill na\n",
    "* since vehicle information only available after a vehicle is added, so 76% sign up missing that information\n"
   ]
  },
  {
   "cell_type": "code",
   "execution_count": 52,
   "metadata": {
    "collapsed": false
   },
   "outputs": [
    {
     "name": "stdout",
     "output_type": "stream",
     "text": [
      "id                          0\n",
      "city_name                   0\n",
      "signup_os                6857\n",
      "signup_channel              0\n",
      "signup_date                 0\n",
      "bgc_date                21785\n",
      "vehicle_added_date      41547\n",
      "vehicle_make            41458\n",
      "vehicle_model           41458\n",
      "vehicle_year            41458\n",
      "first_completed_date    48544\n",
      "signup_to_bgc           21785\n",
      "signup_to_add           41547\n",
      "signup_wkday                0\n",
      "FirstTripDone               0\n",
      "vehicleadd                  0\n",
      "bgcdone                     0\n",
      "signup_os_fill              0\n",
      "dtype: int64\n"
     ]
    },
    {
     "data": {
      "text/plain": [
       "ios web        2349\n",
       "android web    2094\n",
       "windows        1013\n",
       "mac             831\n",
       "other           570\n",
       "Name: signup_os_fill, dtype: int64"
      ]
     },
     "execution_count": 52,
     "metadata": {},
     "output_type": "execute_result"
    }
   ],
   "source": [
    "#check IVs missings \n",
    "print df.isnull().sum()\n",
    "df['signup_os_fill'] = df['signup_os'].fillna(method = 'pad')\n",
    "df[df['signup_os'].isnull()].signup_os_fill.value_counts()"
   ]
  },
  {
   "cell_type": "markdown",
   "metadata": {},
   "source": [
    "* Assuming we are running a model on the 7th day after a driver sign up to predict whether the driver will eventually drive, we can take a look at whether and when they give a concern\n",
    "* It seems that people giving consent to bg check are more likely to eventually drive. The longer they wait to give the consent the less likely they take the first trip "
   ]
  },
  {
   "cell_type": "code",
   "execution_count": 55,
   "metadata": {
    "collapsed": false
   },
   "outputs": [
    {
     "data": {
      "text/plain": [
       "<matplotlib.text.Text at 0x116c5bd90>"
      ]
     },
     "execution_count": 55,
     "metadata": {},
     "output_type": "execute_result"
    },
    {
     "data": {
      "image/png": "[encoded data removed]",
      "text/plain": [
       "<matplotlib.figure.Figure at 0x103bc9a90>"
      ]
     },
     "metadata": {},
     "output_type": "display_data"
    }
   ],
   "source": [
    "df['signup_to_bgc'].describe()\n",
    "df['Daystobgc'] = df['signup_to_bgc'].apply(lambda x: x if x <= 7 else 8)\n",
    "df['Daystobgc'].value_counts()\n",
    "m = df.groupby('Daystobgc')['FirstTripDone'].agg({'mean': np.mean})\n",
    "m.plot(kind='bar')\n",
    "plt.title ('First Trip Rate by Days Between Signup and Consent to Background Check ')"
   ]
  },
  {
   "cell_type": "code",
   "execution_count": 79,
   "metadata": {
    "collapsed": false
   },
   "outputs": [
    {
     "data": {
      "text/plain": [
       "Index([u'id', u'city_name', u'signup_os', u'signup_channel', u'signup_date',\n",
       "       u'bgc_date', u'vehicle_added_date', u'vehicle_make', u'vehicle_model',\n",
       "       u'vehicle_year', u'first_completed_date', u'signup_to_bgc',\n",
       "       u'signup_to_add', u'signup_wkday', u'FirstTripDone', u'vehicleadd',\n",
       "       u'bgcdone', u'signup_os_fill', u'consentbin', u'Daystobgc'],\n",
       "      dtype='object')"
      ]
     },
     "execution_count": 79,
     "metadata": {},
     "output_type": "execute_result"
    }
   ],
   "source": [
    "df.columns"
   ]
  },
  {
   "cell_type": "code",
   "execution_count": 123,
   "metadata": {
    "collapsed": false
   },
   "outputs": [],
   "source": [
    "ls = ['city_name','signup_channel','Daystobgc','signup_os_fill','signup_wkday','vehicle_year']\n",
    "def meanbyfeature (var):\n",
    "    return df.groupby(var)['FirstTripDone'].agg({'mean': np.mean})\n",
    "\n",
    "for i in range(len(ls)):\n",
    "    ls[i] = meanbyfeature(ls[i])"
   ]
  },
  {
   "cell_type": "markdown",
   "metadata": {},
   "source": [
    "### check mean first trip done by available features "
   ]
  },
  {
   "cell_type": "code",
   "execution_count": 118,
   "metadata": {
    "collapsed": false
   },
   "outputs": [
    {
     "data": {
      "image/png": "[encoded data removed]",
      "text/plain": [
       "<matplotlib.figure.Figure at 0x11fd4f550>"
      ]
     },
     "metadata": {},
     "output_type": "display_data"
    }
   ],
   "source": [
    "f, ax = plt.subplots(3, 2)\n",
    "q = 0 \n",
    "for i in range(3):\n",
    "    for j in range(2):\n",
    "        ls[q].plot(kind='bar', ax=ax[i, j], figsize = (10,14), legend=False) \n",
    "        plt.ylabel ('Activation Rate')\n",
    "        plt.title ('First Trip Rate by Selected Features ')\n",
    "\n",
    "        q += 1\n",
    "#ls[0].plot(kind='bar', subplots = True, ax=ax[0,0], figsize =  )\n",
    "#ls[1].plot(kind='bar', subplots = True, ax=ax[0,1])\n",
    "#Daystobgc.plot(kind='bar', subplots = True, ax=ax[1,0])\n",
    "#signup_os_fill.plot(kind='bar', subplots = True, ax=ax[1,1])\n"
   ]
  },
  {
   "cell_type": "code",
   "execution_count": 168,
   "metadata": {
    "collapsed": false
   },
   "outputs": [],
   "source": [
    "#export df to csv for tree model data visulation in R\n",
    "df.to_csv(\"./cleaned_df.csv\")"
   ]
  },
  {
   "cell_type": "markdown",
   "metadata": {},
   "source": [
    "# Model 1 : \n",
    "#### This model assumes that we need to make a prediction when a driver signs up. At that moment, we have limited information regarding the signup, which includes city, signup channel, signup os, signup weekeday. We can also conisder the interaction of city and channel and os and channel. \n",
    "\n",
    "* X :  ['city_name','signup_channel', 'signup_os_fill','signup_wkday' , city_channel' , 'os_channel']\n",
    "* y : First Trip is finished \n",
    "* Model:  Random Forest Model with class_weight = 'balanced' is used here \n",
    "#### Steps:\n",
    "* select features\n",
    "* transform the matrix\n",
    "* split the data into training and test dataset: 70% for training and 30% for testing"
   ]
  },
  {
   "cell_type": "code",
   "execution_count": 308,
   "metadata": {
    "collapsed": false
   },
   "outputs": [],
   "source": [
    "#training and test split \n",
    "from sklearn import cross_validation\n",
    "from sklearn import preprocessing\n",
    "from sklearn.ensemble import RandomForestClassifier\n",
    "from sklearn.metrics import roc_curve, auc, roc_auc_score\n",
    "from sklearn import metrics\n"
   ]
  },
  {
   "cell_type": "code",
   "execution_count": 334,
   "metadata": {
    "collapsed": false
   },
   "outputs": [
    {
     "name": "stderr",
     "output_type": "stream",
     "text": [
      "/Users/weizeng/anaconda/lib/python2.7/site-packages/ipykernel/__main__.py:4: SettingWithCopyWarning: \n",
      "A value is trying to be set on a copy of a slice from a DataFrame.\n",
      "Try using .loc[row_indexer,col_indexer] = value instead\n",
      "\n",
      "See the caveats in the documentation: http://pandas.pydata.org/pandas-docs/stable/indexing.html#indexing-view-versus-copy\n",
      "/Users/weizeng/anaconda/lib/python2.7/site-packages/ipykernel/__main__.py:5: SettingWithCopyWarning: \n",
      "A value is trying to be set on a copy of a slice from a DataFrame.\n",
      "Try using .loc[row_indexer,col_indexer] = value instead\n",
      "\n",
      "See the caveats in the documentation: http://pandas.pydata.org/pandas-docs/stable/indexing.html#indexing-view-versus-copy\n",
      "/Users/weizeng/anaconda/lib/python2.7/site-packages/ipykernel/__main__.py:10: SettingWithCopyWarning: \n",
      "A value is trying to be set on a copy of a slice from a DataFrame.\n",
      "Try using .loc[row_indexer,col_indexer] = value instead\n",
      "\n",
      "See the caveats in the documentation: http://pandas.pydata.org/pandas-docs/stable/indexing.html#indexing-view-versus-copy\n"
     ]
    }
   ],
   "source": [
    "y = df['FirstTripDone']\n",
    "X = df[['city_name','signup_channel', 'signup_os_fill','signup_wkday']]\n",
    "\n",
    "X['city_channel'] = [ X['city_name'].iloc[i] + X['signup_channel'].iloc[i] for i in range(len(X))]\n",
    "X['os_channel'] = [ X['signup_os_fill'].iloc[i] + X['signup_channel'].iloc[i] for i in range(len(X))]\n",
    "\n",
    "\n",
    "LEconvert = preprocessing.LabelEncoder()\n",
    "for i in ['city_name','signup_channel', 'signup_os_fill','signup_wkday', 'city_channel' , 'os_channel']:\n",
    "    X[i] = LEconvert.fit_transform(X[i])\n",
    "\n"
   ]
  },
  {
   "cell_type": "code",
   "execution_count": 335,
   "metadata": {
    "collapsed": false
   },
   "outputs": [
    {
     "name": "stdout",
     "output_type": "stream",
     "text": [
      "0.112028425123\n",
      "0.11265544989\n"
     ]
    }
   ],
   "source": [
    "X_train, X_test, y_train, y_test = cross_validation.train_test_split(X,y, random_state =5, test_size =0.3 )\n",
    "print np.mean(y_train)\n",
    "print np.mean(y_test)"
   ]
  },
  {
   "cell_type": "code",
   "execution_count": 311,
   "metadata": {
    "collapsed": false
   },
   "outputs": [
    {
     "data": {
      "text/plain": [
       "RandomForestClassifier(bootstrap=True, class_weight='balanced',\n",
       "            criterion='gini', max_depth=None, max_features='auto',\n",
       "            max_leaf_nodes=None, min_samples_leaf=1, min_samples_split=2,\n",
       "            min_weight_fraction_leaf=0.0, n_estimators=50, n_jobs=1,\n",
       "            oob_score=False, random_state=None, verbose=0,\n",
       "            warm_start=False)"
      ]
     },
     "execution_count": 311,
     "metadata": {},
     "output_type": "execute_result"
    }
   ],
   "source": [
    "clf"
   ]
  },
  {
   "cell_type": "markdown",
   "metadata": {},
   "source": [
    "* train random forests \n",
    "* due to inbalanced data, class_weight = 'balanced' is used"
   ]
  },
  {
   "cell_type": "code",
   "execution_count": 336,
   "metadata": {
    "collapsed": false
   },
   "outputs": [
    {
     "name": "stdout",
     "output_type": "stream",
     "text": [
      "Auc based on the probablity0.70\n",
      "Auc based on the prediction0.65\n"
     ]
    },
    {
     "data": {
      "image/png": "[encoded data removed]",
      "text/plain": [
       "<matplotlib.figure.Figure at 0x11dbd7590>"
      ]
     },
     "metadata": {},
     "output_type": "display_data"
    },
    {
     "data": {
      "image/png": "[encoded data removed]",
      "text/plain": [
       "<matplotlib.figure.Figure at 0x12089e290>"
      ]
     },
     "metadata": {},
     "output_type": "display_data"
    }
   ],
   "source": [
    "clf = RandomForestClassifier(n_estimators=50, class_weight = \"balanced\")\n",
    "\n",
    "#1. Fit the model to our training data\n",
    "clf = clf.fit(X_train, y_train)\n",
    "ytrain_predprob = clf.predict_proba(X_train)[:,1] #predicted probablity \n",
    "ytrain_pred= clf.predict(X_train) #predicted outcome\n",
    "\n",
    "#2. work on AUC and ROC \n",
    "\n",
    "fpr, tpr, thresholds = roc_curve(y_train, ytrain_predprob)\n",
    "\n",
    "roc_auc = auc(fpr, tpr)\n",
    "print 'Auc based on the probablity{0:.2f}'.format(roc_auc)\n",
    "roc_auc1= roc_auc_score(y_train, ytrain_pred)\n",
    "print'Auc based on the prediction{0:.2f}'.format(roc_auc1)\n",
    "\n",
    "#plot the ROC Curve\n",
    "plt.plot(fpr, tpr, lw=1,label='AUC: {0:.2f}'.format(roc_auc))\n",
    "plt.plot([0, 1], [0, 1], color='navy', lw=2, linestyle='--')\n",
    "plt.legend(loc=\"lower right\")\n",
    "plt.title('ROC curve for Training Dataset')\n",
    "plt.xlabel('False Positive Rate')\n",
    "plt.ylabel('True Positive Rate')\n",
    "plt.show()\n",
    "\n",
    "#3. feature importance \n",
    "imp = clf.feature_importances_\n",
    "names = X.columns\n",
    "imp, names = zip(*sorted(zip(imp,names)))\n",
    "\n",
    "plt.barh(range(len(names)), imp, align ='center')\n",
    "plt.yticks(range(len(names)),names)\n",
    "plt.xlabel ('Importance of Features')\n",
    "plt.ylabel('Features')\n",
    "plt.title('Importance of Features')\n",
    "plt.show()\n"
   ]
  },
  {
   "cell_type": "code",
   "execution_count": 337,
   "metadata": {
    "collapsed": false
   },
   "outputs": [
    {
     "data": {
      "text/plain": [
       "[0.20275143363549528,\n",
       " 0.20889222148350917,\n",
       " 0.23181599467378455,\n",
       " 0.25194874235973075,\n",
       " 0.27324981199658482]"
      ]
     },
     "execution_count": 337,
     "metadata": {},
     "output_type": "execute_result"
    }
   ],
   "source": [
    "#try to search the best the cut-off point - With class_weight ='balanced', the probablity = 0.5 seems to yield the \n",
    "#best f1-score\n",
    "\n",
    "#select the probablity cut-off based on the F1 score\n",
    "from sklearn.cross_validation import cross_val_score\n",
    "\n",
    "def cutoff_predict(clf, X, cutoff):\n",
    "    return (clf.predict_proba(X)[:,1] > cutoff).astype(int)\n",
    "scores = []\n",
    "\n",
    "# this function will return a function for crossvalidation \n",
    "def custom_f1(cutoff):\n",
    "    def f1_cutoff(clf,X_train,y_train):\n",
    "        ypred = cutoff_predict(clf, X_train, cutoff)\n",
    "        return metrics.f1_score(y_train, ypred)\n",
    "    return f1_cutoff\n",
    "\n",
    "for cutoff in range(1,6):\n",
    "    co = cutoff *0.1\n",
    "    validated = cross_val_score(clf, X_train, y_train, cv = 10, scoring = custom_f1(co))\n",
    "    validated2 = np.mean(validated)\n",
    "    scores.append(validated2)\n",
    "\n",
    "scores"
   ]
  },
  {
   "cell_type": "markdown",
   "metadata": {},
   "source": [
    "* Classifcation report and  confusion matrix "
   ]
  },
  {
   "cell_type": "code",
   "execution_count": 338,
   "metadata": {
    "collapsed": false
   },
   "outputs": [
    {
     "name": "stdout",
     "output_type": "stream",
     "text": [
      "             precision    recall  f1-score   support\n",
      "\n",
      " Not Active       0.94      0.65      0.77     33988\n",
      "     Active       0.19      0.64      0.29      4288\n",
      "\n",
      "avg / total       0.85      0.65      0.71     38276\n",
      "\n",
      "('Confusion Matrix ', array([[22095, 11893],\n",
      "       [ 1536,  2752]]))\n",
      "('Confusion Matrix ', array([[22095, 11893],\n",
      "       [ 1536,  2752]]))\n",
      "          Predicted\n",
      "         |  0  |  1  |\n",
      "         |-----|-----|\n",
      "       0 | 22095 | 11893 |\n",
      "Actual   |-----|-----|\n",
      "       1 | 1536 | 2752 |\n",
      "         |-----|-----|\n"
     ]
    }
   ],
   "source": [
    "ytrain_pred = clf.predict(X_train)\n",
    "#print (metrics.f1_score(y_train, ypred, pos_label = 0))\n",
    "print (classification_report(y_train, \n",
    "                             ytrain_pred, \n",
    "                             target_names=['Not Active', 'Active']))\n",
    "\n",
    "confusion_matrix = metrics.confusion_matrix(y_train, ytrain_pred)\n",
    "print (\"Confusion Matrix \", confusion_matrix)\n",
    "print (\"Confusion Matrix \", confusion_matrix)\n",
    "\n",
    "print (\"          Predicted\")\n",
    "print (\"         |  0  |  1  |\")\n",
    "print (\"         |-----|-----|\")\n",
    "print (\"       0 | %3d | %3d |\" % (confusion_matrix[0, 0],\n",
    "                                   confusion_matrix[0, 1]))\n",
    "print (\"Actual   |-----|-----|\")\n",
    "print (\"       1 | %3d | %3d |\" % (confusion_matrix[1, 0],\n",
    "                                   confusion_matrix[1, 1]))\n",
    "print (\"         |-----|-----|\")\n"
   ]
  },
  {
   "cell_type": "code",
   "execution_count": 339,
   "metadata": {
    "collapsed": false
   },
   "outputs": [
    {
     "name": "stdout",
     "output_type": "stream",
     "text": [
      "Accuracy = 0.65\n",
      "('Confusion Matrix ', array([[9452, 5104],\n",
      "       [ 670, 1178]]))\n",
      "             precision    recall  f1-score   support\n",
      "\n",
      " Not Active       0.93      0.65      0.77     14556\n",
      "     Active       0.19      0.64      0.29      1848\n",
      "\n",
      "avg / total       0.85      0.65      0.71     16404\n",
      "\n"
     ]
    }
   ],
   "source": [
    "from sklearn.metrics import accuracy_score\n",
    "predict_y = (clf.predict_proba(X_test)[:,1] > 0.5).astype(int)\n",
    "print (\"Accuracy = %.2f\" % (accuracy_score(y_test, predict_y)))\n",
    "\n",
    "from sklearn import metrics\n",
    "confusion_matrix = metrics.confusion_matrix(y_test, predict_y)\n",
    "print (\"Confusion Matrix \", confusion_matrix)\n",
    "\n",
    "from sklearn.metrics import classification_report\n",
    "print(classification_report(y_test, \n",
    "                            predict_y, \n",
    "                            target_names=['Not Active', 'Active']))\n",
    "\n",
    "\n",
    "fpr, tpr, thresholds = roc_curve(y_test, predict_y)\n",
    "\n",
    "roc_auc = auc(fpr, tpr)\n",
    "print 'Auc based on the probablity{0:.2f}'.format(roc_auc)\n",
    "roc_auc1= roc_auc_score(y_train, ytrain_pred)\n",
    "print'Auc based on the prediction{0:.2f}'.format(roc_auc1)\n",
    "\n",
    "#plot the ROC Curve\n",
    "plt.plot(fpr, tpr, lw=1,label='AUC: {0:.2f}'.format(roc_auc))\n",
    "plt.plot([0, 1], [0, 1], color='navy', lw=2, linestyle='--')\n",
    "plt.legend(loc=\"lower right\")\n",
    "plt.title('ROC curve for Test Dataset')\n",
    "plt.xlabel('False Positive Rate')\n",
    "plt.ylabel('True Positive Rate')\n",
    "plt.show()"
   ]
  },
  {
   "cell_type": "code",
   "execution_count": 358,
   "metadata": {
    "collapsed": false
   },
   "outputs": [
    {
     "data": {
      "text/plain": [
       "Index([u'id', u'city_name', u'signup_os', u'signup_channel', u'signup_date',\n",
       "       u'bgc_date', u'vehicle_added_date', u'vehicle_make', u'vehicle_model',\n",
       "       u'vehicle_year', u'first_completed_date', u'signup_to_bgc',\n",
       "       u'signup_to_add', u'signup_wkday', u'FirstTripDone', u'vehicleadd',\n",
       "       u'bgcdone', u'signup_os_fill', u'consentbin', u'Daystobgc',\n",
       "       u'city_channel', u'os_channel'],\n",
       "      dtype='object')"
      ]
     },
     "execution_count": 358,
     "metadata": {},
     "output_type": "execute_result"
    }
   ],
   "source": [
    "df.columns"
   ]
  },
  {
   "cell_type": "code",
   "execution_count": 359,
   "metadata": {
    "collapsed": false
   },
   "outputs": [
    {
     "name": "stdout",
     "output_type": "stream",
     "text": [
      "0.112028425123\n",
      "0.11265544989\n"
     ]
    },
    {
     "data": {
      "text/html": [
       "<div>\n",
       "<table border=\"1\" class=\"dataframe\">\n",
       "  <thead>\n",
       "    <tr style=\"text-align: right;\">\n",
       "      <th></th>\n",
       "      <th>signup_wkday</th>\n",
       "      <th>Daystobgc</th>\n",
       "      <th>city_name_Berton</th>\n",
       "      <th>city_name_Strark</th>\n",
       "      <th>city_name_Wrouver</th>\n",
       "      <th>signup_channel_Organic</th>\n",
       "      <th>signup_channel_Paid</th>\n",
       "      <th>signup_channel_Referral</th>\n",
       "      <th>signup_os_fill_android web</th>\n",
       "      <th>signup_os_fill_ios web</th>\n",
       "      <th>...</th>\n",
       "      <th>os_channel_ios webReferral</th>\n",
       "      <th>os_channel_macOrganic</th>\n",
       "      <th>os_channel_macPaid</th>\n",
       "      <th>os_channel_macReferral</th>\n",
       "      <th>os_channel_otherOrganic</th>\n",
       "      <th>os_channel_otherPaid</th>\n",
       "      <th>os_channel_otherReferral</th>\n",
       "      <th>os_channel_windowsOrganic</th>\n",
       "      <th>os_channel_windowsPaid</th>\n",
       "      <th>os_channel_windowsReferral</th>\n",
       "    </tr>\n",
       "  </thead>\n",
       "  <tbody>\n",
       "    <tr>\n",
       "      <th>0</th>\n",
       "      <td>5</td>\n",
       "      <td>8.0</td>\n",
       "      <td>0.0</td>\n",
       "      <td>1.0</td>\n",
       "      <td>0.0</td>\n",
       "      <td>0.0</td>\n",
       "      <td>1.0</td>\n",
       "      <td>0.0</td>\n",
       "      <td>0.0</td>\n",
       "      <td>1.0</td>\n",
       "      <td>...</td>\n",
       "      <td>0.0</td>\n",
       "      <td>0.0</td>\n",
       "      <td>0.0</td>\n",
       "      <td>0.0</td>\n",
       "      <td>0.0</td>\n",
       "      <td>0.0</td>\n",
       "      <td>0.0</td>\n",
       "      <td>0.0</td>\n",
       "      <td>0.0</td>\n",
       "      <td>0.0</td>\n",
       "    </tr>\n",
       "    <tr>\n",
       "      <th>1</th>\n",
       "      <td>3</td>\n",
       "      <td>8.0</td>\n",
       "      <td>0.0</td>\n",
       "      <td>1.0</td>\n",
       "      <td>0.0</td>\n",
       "      <td>0.0</td>\n",
       "      <td>1.0</td>\n",
       "      <td>0.0</td>\n",
       "      <td>0.0</td>\n",
       "      <td>0.0</td>\n",
       "      <td>...</td>\n",
       "      <td>0.0</td>\n",
       "      <td>0.0</td>\n",
       "      <td>0.0</td>\n",
       "      <td>0.0</td>\n",
       "      <td>0.0</td>\n",
       "      <td>0.0</td>\n",
       "      <td>0.0</td>\n",
       "      <td>0.0</td>\n",
       "      <td>1.0</td>\n",
       "      <td>0.0</td>\n",
       "    </tr>\n",
       "    <tr>\n",
       "      <th>2</th>\n",
       "      <td>0</td>\n",
       "      <td>0.0</td>\n",
       "      <td>0.0</td>\n",
       "      <td>0.0</td>\n",
       "      <td>1.0</td>\n",
       "      <td>1.0</td>\n",
       "      <td>0.0</td>\n",
       "      <td>0.0</td>\n",
       "      <td>0.0</td>\n",
       "      <td>0.0</td>\n",
       "      <td>...</td>\n",
       "      <td>0.0</td>\n",
       "      <td>0.0</td>\n",
       "      <td>0.0</td>\n",
       "      <td>0.0</td>\n",
       "      <td>0.0</td>\n",
       "      <td>0.0</td>\n",
       "      <td>0.0</td>\n",
       "      <td>1.0</td>\n",
       "      <td>0.0</td>\n",
       "      <td>0.0</td>\n",
       "    </tr>\n",
       "    <tr>\n",
       "      <th>3</th>\n",
       "      <td>4</td>\n",
       "      <td>5.0</td>\n",
       "      <td>1.0</td>\n",
       "      <td>0.0</td>\n",
       "      <td>0.0</td>\n",
       "      <td>0.0</td>\n",
       "      <td>0.0</td>\n",
       "      <td>1.0</td>\n",
       "      <td>1.0</td>\n",
       "      <td>0.0</td>\n",
       "      <td>...</td>\n",
       "      <td>0.0</td>\n",
       "      <td>0.0</td>\n",
       "      <td>0.0</td>\n",
       "      <td>0.0</td>\n",
       "      <td>0.0</td>\n",
       "      <td>0.0</td>\n",
       "      <td>0.0</td>\n",
       "      <td>0.0</td>\n",
       "      <td>0.0</td>\n",
       "      <td>0.0</td>\n",
       "    </tr>\n",
       "    <tr>\n",
       "      <th>4</th>\n",
       "      <td>6</td>\n",
       "      <td>8.0</td>\n",
       "      <td>0.0</td>\n",
       "      <td>1.0</td>\n",
       "      <td>0.0</td>\n",
       "      <td>0.0</td>\n",
       "      <td>0.0</td>\n",
       "      <td>1.0</td>\n",
       "      <td>1.0</td>\n",
       "      <td>0.0</td>\n",
       "      <td>...</td>\n",
       "      <td>0.0</td>\n",
       "      <td>0.0</td>\n",
       "      <td>0.0</td>\n",
       "      <td>0.0</td>\n",
       "      <td>0.0</td>\n",
       "      <td>0.0</td>\n",
       "      <td>0.0</td>\n",
       "      <td>0.0</td>\n",
       "      <td>0.0</td>\n",
       "      <td>0.0</td>\n",
       "    </tr>\n",
       "  </tbody>\n",
       "</table>\n",
       "<p>5 rows × 37 columns</p>\n",
       "</div>"
      ],
      "text/plain": [
       "   signup_wkday  Daystobgc  city_name_Berton  city_name_Strark  \\\n",
       "0             5        8.0               0.0               1.0   \n",
       "1             3        8.0               0.0               1.0   \n",
       "2             0        0.0               0.0               0.0   \n",
       "3             4        5.0               1.0               0.0   \n",
       "4             6        8.0               0.0               1.0   \n",
       "\n",
       "   city_name_Wrouver  signup_channel_Organic  signup_channel_Paid  \\\n",
       "0                0.0                     0.0                  1.0   \n",
       "1                0.0                     0.0                  1.0   \n",
       "2                1.0                     1.0                  0.0   \n",
       "3                0.0                     0.0                  0.0   \n",
       "4                0.0                     0.0                  0.0   \n",
       "\n",
       "   signup_channel_Referral  signup_os_fill_android web  \\\n",
       "0                      0.0                         0.0   \n",
       "1                      0.0                         0.0   \n",
       "2                      0.0                         0.0   \n",
       "3                      1.0                         1.0   \n",
       "4                      1.0                         1.0   \n",
       "\n",
       "   signup_os_fill_ios web             ...              \\\n",
       "0                     1.0             ...               \n",
       "1                     0.0             ...               \n",
       "2                     0.0             ...               \n",
       "3                     0.0             ...               \n",
       "4                     0.0             ...               \n",
       "\n",
       "   os_channel_ios webReferral  os_channel_macOrganic  os_channel_macPaid  \\\n",
       "0                         0.0                    0.0                 0.0   \n",
       "1                         0.0                    0.0                 0.0   \n",
       "2                         0.0                    0.0                 0.0   \n",
       "3                         0.0                    0.0                 0.0   \n",
       "4                         0.0                    0.0                 0.0   \n",
       "\n",
       "   os_channel_macReferral  os_channel_otherOrganic  os_channel_otherPaid  \\\n",
       "0                     0.0                      0.0                   0.0   \n",
       "1                     0.0                      0.0                   0.0   \n",
       "2                     0.0                      0.0                   0.0   \n",
       "3                     0.0                      0.0                   0.0   \n",
       "4                     0.0                      0.0                   0.0   \n",
       "\n",
       "   os_channel_otherReferral  os_channel_windowsOrganic  \\\n",
       "0                       0.0                        0.0   \n",
       "1                       0.0                        0.0   \n",
       "2                       0.0                        1.0   \n",
       "3                       0.0                        0.0   \n",
       "4                       0.0                        0.0   \n",
       "\n",
       "   os_channel_windowsPaid  os_channel_windowsReferral  \n",
       "0                     0.0                         0.0  \n",
       "1                     1.0                         0.0  \n",
       "2                     0.0                         0.0  \n",
       "3                     0.0                         0.0  \n",
       "4                     0.0                         0.0  \n",
       "\n",
       "[5 rows x 37 columns]"
      ]
     },
     "execution_count": 359,
     "metadata": {},
     "output_type": "execute_result"
    }
   ],
   "source": [
    "y = df['FirstTripDone']\n",
    "\n",
    "df['city_channel'] = [ df['city_name'].iloc[i] + df['signup_channel'].iloc[i] for i in range(len(df))]\n",
    "df['os_channel'] = [df['signup_os_fill'].iloc[i] + df['signup_channel'].iloc[i] for i in range(len(df))]\n",
    "\n",
    "selectvar = ['city_name','signup_channel', 'signup_os_fill','signup_wkday','city_channel', 'os_channel', 'Daystobgc']\n",
    "X1 = pd.get_dummies(df[selectvar])\n",
    "\n",
    "X_train, X_test, y_train, y_test = cross_validation.train_test_split(X1,y, random_state =5, test_size =0.3 )\n",
    "print np.mean(y_train)\n",
    "print np.mean(y_test)\n",
    "\n",
    "X1.head()\n",
    "    "
   ]
  },
  {
   "cell_type": "code",
   "execution_count": 362,
   "metadata": {
    "collapsed": false
   },
   "outputs": [],
   "source": [
    "#M = pd.concat([y, X1], axis = 1)\n",
    "#M.to_csv(\"./cleaned_df.csv\")"
   ]
  },
  {
   "cell_type": "code",
   "execution_count": 363,
   "metadata": {
    "collapsed": false
   },
   "outputs": [
    {
     "data": {
      "text/html": [
       "<div>\n",
       "<table border=\"1\" class=\"dataframe\">\n",
       "  <thead>\n",
       "    <tr style=\"text-align: right;\">\n",
       "      <th></th>\n",
       "      <th>FirstTripDone</th>\n",
       "      <th>signup_wkday</th>\n",
       "      <th>Daystobgc</th>\n",
       "      <th>city_name_Berton</th>\n",
       "      <th>city_name_Strark</th>\n",
       "      <th>city_name_Wrouver</th>\n",
       "      <th>signup_channel_Organic</th>\n",
       "      <th>signup_channel_Paid</th>\n",
       "      <th>signup_channel_Referral</th>\n",
       "      <th>signup_os_fill_android web</th>\n",
       "      <th>...</th>\n",
       "      <th>os_channel_ios webReferral</th>\n",
       "      <th>os_channel_macOrganic</th>\n",
       "      <th>os_channel_macPaid</th>\n",
       "      <th>os_channel_macReferral</th>\n",
       "      <th>os_channel_otherOrganic</th>\n",
       "      <th>os_channel_otherPaid</th>\n",
       "      <th>os_channel_otherReferral</th>\n",
       "      <th>os_channel_windowsOrganic</th>\n",
       "      <th>os_channel_windowsPaid</th>\n",
       "      <th>os_channel_windowsReferral</th>\n",
       "    </tr>\n",
       "  </thead>\n",
       "  <tbody>\n",
       "    <tr>\n",
       "      <th>0</th>\n",
       "      <td>0</td>\n",
       "      <td>5</td>\n",
       "      <td>8.0</td>\n",
       "      <td>0.0</td>\n",
       "      <td>1.0</td>\n",
       "      <td>0.0</td>\n",
       "      <td>0.0</td>\n",
       "      <td>1.0</td>\n",
       "      <td>0.0</td>\n",
       "      <td>0.0</td>\n",
       "      <td>...</td>\n",
       "      <td>0.0</td>\n",
       "      <td>0.0</td>\n",
       "      <td>0.0</td>\n",
       "      <td>0.0</td>\n",
       "      <td>0.0</td>\n",
       "      <td>0.0</td>\n",
       "      <td>0.0</td>\n",
       "      <td>0.0</td>\n",
       "      <td>0.0</td>\n",
       "      <td>0.0</td>\n",
       "    </tr>\n",
       "    <tr>\n",
       "      <th>1</th>\n",
       "      <td>0</td>\n",
       "      <td>3</td>\n",
       "      <td>8.0</td>\n",
       "      <td>0.0</td>\n",
       "      <td>1.0</td>\n",
       "      <td>0.0</td>\n",
       "      <td>0.0</td>\n",
       "      <td>1.0</td>\n",
       "      <td>0.0</td>\n",
       "      <td>0.0</td>\n",
       "      <td>...</td>\n",
       "      <td>0.0</td>\n",
       "      <td>0.0</td>\n",
       "      <td>0.0</td>\n",
       "      <td>0.0</td>\n",
       "      <td>0.0</td>\n",
       "      <td>0.0</td>\n",
       "      <td>0.0</td>\n",
       "      <td>0.0</td>\n",
       "      <td>1.0</td>\n",
       "      <td>0.0</td>\n",
       "    </tr>\n",
       "    <tr>\n",
       "      <th>2</th>\n",
       "      <td>0</td>\n",
       "      <td>0</td>\n",
       "      <td>0.0</td>\n",
       "      <td>0.0</td>\n",
       "      <td>0.0</td>\n",
       "      <td>1.0</td>\n",
       "      <td>1.0</td>\n",
       "      <td>0.0</td>\n",
       "      <td>0.0</td>\n",
       "      <td>0.0</td>\n",
       "      <td>...</td>\n",
       "      <td>0.0</td>\n",
       "      <td>0.0</td>\n",
       "      <td>0.0</td>\n",
       "      <td>0.0</td>\n",
       "      <td>0.0</td>\n",
       "      <td>0.0</td>\n",
       "      <td>0.0</td>\n",
       "      <td>1.0</td>\n",
       "      <td>0.0</td>\n",
       "      <td>0.0</td>\n",
       "    </tr>\n",
       "    <tr>\n",
       "      <th>3</th>\n",
       "      <td>1</td>\n",
       "      <td>4</td>\n",
       "      <td>5.0</td>\n",
       "      <td>1.0</td>\n",
       "      <td>0.0</td>\n",
       "      <td>0.0</td>\n",
       "      <td>0.0</td>\n",
       "      <td>0.0</td>\n",
       "      <td>1.0</td>\n",
       "      <td>1.0</td>\n",
       "      <td>...</td>\n",
       "      <td>0.0</td>\n",
       "      <td>0.0</td>\n",
       "      <td>0.0</td>\n",
       "      <td>0.0</td>\n",
       "      <td>0.0</td>\n",
       "      <td>0.0</td>\n",
       "      <td>0.0</td>\n",
       "      <td>0.0</td>\n",
       "      <td>0.0</td>\n",
       "      <td>0.0</td>\n",
       "    </tr>\n",
       "    <tr>\n",
       "      <th>4</th>\n",
       "      <td>0</td>\n",
       "      <td>6</td>\n",
       "      <td>8.0</td>\n",
       "      <td>0.0</td>\n",
       "      <td>1.0</td>\n",
       "      <td>0.0</td>\n",
       "      <td>0.0</td>\n",
       "      <td>0.0</td>\n",
       "      <td>1.0</td>\n",
       "      <td>1.0</td>\n",
       "      <td>...</td>\n",
       "      <td>0.0</td>\n",
       "      <td>0.0</td>\n",
       "      <td>0.0</td>\n",
       "      <td>0.0</td>\n",
       "      <td>0.0</td>\n",
       "      <td>0.0</td>\n",
       "      <td>0.0</td>\n",
       "      <td>0.0</td>\n",
       "      <td>0.0</td>\n",
       "      <td>0.0</td>\n",
       "    </tr>\n",
       "  </tbody>\n",
       "</table>\n",
       "<p>5 rows × 38 columns</p>\n",
       "</div>"
      ],
      "text/plain": [
       "   FirstTripDone  signup_wkday  Daystobgc  city_name_Berton  city_name_Strark  \\\n",
       "0              0             5        8.0               0.0               1.0   \n",
       "1              0             3        8.0               0.0               1.0   \n",
       "2              0             0        0.0               0.0               0.0   \n",
       "3              1             4        5.0               1.0               0.0   \n",
       "4              0             6        8.0               0.0               1.0   \n",
       "\n",
       "   city_name_Wrouver  signup_channel_Organic  signup_channel_Paid  \\\n",
       "0                0.0                     0.0                  1.0   \n",
       "1                0.0                     0.0                  1.0   \n",
       "2                1.0                     1.0                  0.0   \n",
       "3                0.0                     0.0                  0.0   \n",
       "4                0.0                     0.0                  0.0   \n",
       "\n",
       "   signup_channel_Referral  signup_os_fill_android web  \\\n",
       "0                      0.0                         0.0   \n",
       "1                      0.0                         0.0   \n",
       "2                      0.0                         0.0   \n",
       "3                      1.0                         1.0   \n",
       "4                      1.0                         1.0   \n",
       "\n",
       "              ...              os_channel_ios webReferral  \\\n",
       "0             ...                                     0.0   \n",
       "1             ...                                     0.0   \n",
       "2             ...                                     0.0   \n",
       "3             ...                                     0.0   \n",
       "4             ...                                     0.0   \n",
       "\n",
       "   os_channel_macOrganic  os_channel_macPaid  os_channel_macReferral  \\\n",
       "0                    0.0                 0.0                     0.0   \n",
       "1                    0.0                 0.0                     0.0   \n",
       "2                    0.0                 0.0                     0.0   \n",
       "3                    0.0                 0.0                     0.0   \n",
       "4                    0.0                 0.0                     0.0   \n",
       "\n",
       "   os_channel_otherOrganic  os_channel_otherPaid  os_channel_otherReferral  \\\n",
       "0                      0.0                   0.0                       0.0   \n",
       "1                      0.0                   0.0                       0.0   \n",
       "2                      0.0                   0.0                       0.0   \n",
       "3                      0.0                   0.0                       0.0   \n",
       "4                      0.0                   0.0                       0.0   \n",
       "\n",
       "   os_channel_windowsOrganic  os_channel_windowsPaid  \\\n",
       "0                        0.0                     0.0   \n",
       "1                        0.0                     1.0   \n",
       "2                        1.0                     0.0   \n",
       "3                        0.0                     0.0   \n",
       "4                        0.0                     0.0   \n",
       "\n",
       "   os_channel_windowsReferral  \n",
       "0                         0.0  \n",
       "1                         0.0  \n",
       "2                         0.0  \n",
       "3                         0.0  \n",
       "4                         0.0  \n",
       "\n",
       "[5 rows x 38 columns]"
      ]
     },
     "execution_count": 363,
     "metadata": {},
     "output_type": "execute_result"
    }
   ],
   "source": []
  },
  {
   "cell_type": "code",
   "execution_count": 346,
   "metadata": {
    "collapsed": false,
    "scrolled": true
   },
   "outputs": [
    {
     "name": "stdout",
     "output_type": "stream",
     "text": [
      "38276 38276\n"
     ]
    },
    {
     "data": {
      "image/png": "[encoded data removed]",
      "text/plain": [
       "<matplotlib.figure.Figure at 0x121390f90>"
      ]
     },
     "metadata": {},
     "output_type": "display_data"
    },
    {
     "name": "stdout",
     "output_type": "stream",
     "text": [
      "0.636977518075\n"
     ]
    }
   ],
   "source": [
    "from sklearn.linear_model import LogisticRegression\n",
    "from sklearn.metrics import roc_curve, auc, roc_auc_score\n",
    "\n",
    "\n",
    "logreg = LogisticRegression(class_weight = 'balanced')\n",
    "logreg = logreg.fit(X_train, y_train)\n",
    "#score = logreg.score(X_train, y_train)\n",
    "ytrain_predprob = logreg.predict_proba(X_train)[:,1] \n",
    "ytrain_pred= logreg.predict(X_train)\n",
    "print len(ytrain_pred), len(y_train)\n",
    "#ytrain_pred\n",
    "fpr, tpr, thresholds = roc_curve(y_train, ytrain_predprob)\n",
    "#fpr \n",
    "#trp \n",
    "#thresholds\n",
    "roc_auc = auc(fpr, tpr)\n",
    "plt.plot(fpr, tpr, lw=1,label='AUC: {0:.2f}'.format(roc_auc))\n",
    "plt.legend(loc=\"lower right\")\n",
    "plt.show()\n",
    "print roc_auc_score(y_train, ytrain_pred)\n",
    "    \n",
    "#fpr, tpr, thresholds = roc_curve(y_train, ytrain_pred , pos_label=2)\n",
    "#roc_auc = auc(fpr, tpr)\n",
    "#roc_auc\n",
    "#\"Mean accuracy of Logistic Regression: {0}\".format(score)"
   ]
  },
  {
   "cell_type": "code",
   "execution_count": 351,
   "metadata": {
    "collapsed": false
   },
   "outputs": [
    {
     "data": {
      "text/plain": [
       "{'C': 1.0,\n",
       " 'class_weight': 'balanced',\n",
       " 'dual': False,\n",
       " 'fit_intercept': True,\n",
       " 'intercept_scaling': 1,\n",
       " 'max_iter': 100,\n",
       " 'multi_class': 'ovr',\n",
       " 'n_jobs': 1,\n",
       " 'penalty': 'l2',\n",
       " 'random_state': None,\n",
       " 'solver': 'liblinear',\n",
       " 'tol': 0.0001,\n",
       " 'verbose': 0,\n",
       " 'warm_start': False}"
      ]
     },
     "execution_count": 351,
     "metadata": {},
     "output_type": "execute_result"
    }
   ],
   "source": [
    "logreg.get_params()"
   ]
  },
  {
   "cell_type": "code",
   "execution_count": 347,
   "metadata": {
    "collapsed": false
   },
   "outputs": [
    {
     "name": "stdout",
     "output_type": "stream",
     "text": [
      "Accuracy = 0.64\n",
      "('Confusion Matrix ', array([[9362, 5194],\n",
      "       [ 653, 1195]]))\n",
      "             precision    recall  f1-score   support\n",
      "\n",
      " Not Active       0.93      0.64      0.76     14556\n",
      "     Active       0.19      0.65      0.29      1848\n",
      "\n",
      "avg / total       0.85      0.64      0.71     16404\n",
      "\n"
     ]
    },
    {
     "data": {
      "image/png": "[encoded data removed]",
      "text/plain": [
       "<matplotlib.figure.Figure at 0x124fc12d0>"
      ]
     },
     "metadata": {},
     "output_type": "display_data"
    },
    {
     "name": "stdout",
     "output_type": "stream",
     "text": [
      "0.690335648768\n"
     ]
    }
   ],
   "source": [
    "from sklearn.metrics import accuracy_score\n",
    "predict_y = (logreg.predict_proba(X_test)[:,1] > 0.5).astype(int)\n",
    "print (\"Accuracy = %.2f\" % (accuracy_score(y_test, predict_y)))\n",
    "\n",
    "from sklearn import metrics\n",
    "confusion_matrix = metrics.confusion_matrix(y_test, predict_y)\n",
    "print (\"Confusion Matrix \", confusion_matrix)\n",
    "\n",
    "from sklearn.metrics import classification_report\n",
    "print(classification_report(y_test, \n",
    "                            predict_y, \n",
    "                            target_names=['Not Active', 'Active']))\n",
    "predict_y = logreg.predict_proba(X_test)[:,1] \n",
    "fpr, tpr, thresholds = roc_curve(y_test, predict_y)\n",
    "roc_auc = auc(fpr, tpr)\n",
    "plt.plot(fpr, tpr, lw=1,label='AUC: {0:.2f}'.format(roc_auc))\n",
    "plt.legend(loc=\"lower right\")\n",
    "plt.show()\n",
    "print roc_auc_score(y_test, predict_y)\n"
   ]
  },
  {
   "cell_type": "code",
   "execution_count": 348,
   "metadata": {
    "collapsed": false
   },
   "outputs": [],
   "source": [
    "from sklearn import svm\n",
    "\n",
    "svm = svm.SVC(class_weight = 'balanced', kernel='linear') \n",
    "svm = svm.fit(X_train, y_train)\n"
   ]
  },
  {
   "cell_type": "code",
   "execution_count": 349,
   "metadata": {
    "collapsed": false
   },
   "outputs": [
    {
     "name": "stdout",
     "output_type": "stream",
     "text": [
      "38276 38276\n"
     ]
    },
    {
     "data": {
      "image/png": "[encoded data removed]",
      "text/plain": [
       "<matplotlib.figure.Figure at 0x12497f590>"
      ]
     },
     "metadata": {},
     "output_type": "display_data"
    },
    {
     "name": "stdout",
     "output_type": "stream",
     "text": [
      "0.638725665797\n"
     ]
    }
   ],
   "source": [
    "#score = logreg.score(X_train, y_train)\n",
    "#ytrain_predprob = logreg.predict_proba(X_train)[:,1] \n",
    "ytrain_pred= svm.predict(X_train)\n",
    "print len(ytrain_pred), len(y_train)\n",
    "#ytrain_pred\n",
    "fpr, tpr, thresholds = roc_curve(y_train, ytrain_pred)\n",
    "\n",
    "roc_auc = auc(fpr, tpr)\n",
    "plt.plot(fpr, tpr, lw=1,label='AUC: {0:.2f}'.format(roc_auc))\n",
    "plt.legend(loc=\"lower right\")\n",
    "plt.show()\n",
    "print roc_auc_score(y_train, ytrain_pred)\n",
    "    \n",
    "#fpr, tpr, thresholds = roc_curve(y_train, ytrain_pred , pos_label=2)\n",
    "#roc_auc = auc(fpr, tpr)\n",
    "#roc_auc\n",
    "#\"Mean accuracy of Logistic Regression: {0}\".format(score)\n",
    "\n",
    "\n"
   ]
  },
  {
   "cell_type": "code",
   "execution_count": null,
   "metadata": {
    "collapsed": true
   },
   "outputs": [],
   "source": []
  }
 ],
 "metadata": {
  "kernelspec": {
   "display_name": "Python 2",
   "language": "python",
   "name": "python2"
  },
  "language_info": {
   "codemirror_mode": {
    "name": "ipython",
    "version": 2
   },
   "file_extension": ".py",
   "mimetype": "text/x-python",
   "name": "python",
   "nbconvert_exporter": "python",
   "pygments_lexer": "ipython2",
   "version": "2.7.11"
  }
 },
 "nbformat": 4,
 "nbformat_minor": 0
}
